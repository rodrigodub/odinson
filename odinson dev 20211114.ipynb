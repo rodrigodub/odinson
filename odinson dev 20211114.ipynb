{
 "cells": [
  {
   "cell_type": "markdown",
   "metadata": {},
   "source": [
    "# odinson\n",
    "Retrieve original Marvel Comics editions for stories published in old brazilian comics\n",
    "\n",
    "##### 2021.11.14\n",
    "\n",
    "---\n",
    "\n",
    "## Souces\n",
    "\n",
    "[Guia dos Quadrinhos](http://www.guiadosquadrinhos.com/)\n",
    "- [Heróis da TV](http://www.guiadosquadrinhos.com/edicao/herois-da-tv-2-serie-n-1/htv0302/6274)\n",
    "- [Superaventuras Marvel](http://www.guiadosquadrinhos.com/edicao/superaventuras-marvel-n-1/sam0301/7927)\n",
    "- [Almanaque Premiere Marvel](http://www.guiadosquadrinhos.com/edicao/almanaque-premiere-marvel-n-1/apm02001/18611)\n",
    "\n",
    "---\n"
   ]
  },
  {
   "cell_type": "markdown",
   "metadata": {},
   "source": [
    "## 1. Develop retrieving:\n",
    "- edition\n",
    "    - id=\"nome_titulo_lb\"\n",
    "- ~cover image? link?~\n",
    "    - id=\"ampliar_capa\"\n",
    "- story (portuguese)\n",
    "    - all: id=\"texto_pag_detalhe\"\n",
    "- main character\n",
    "- original publication\n",
    "- year\n",
    "- original title"
   ]
  },
  {
   "cell_type": "code",
   "execution_count": null,
   "metadata": {},
   "outputs": [],
   "source": [
    "urlroot = \"http://www.guiadosquadrinhos.com/\"\n",
    "# urledition = \"edicao/herois-da-tv-2-serie-n-1/htv0302/6274\"\n",
    "urledition = \"edicao/superaventuras-marvel-n-1/sam0301/7927\""
   ]
  },
  {
   "cell_type": "code",
   "execution_count": null,
   "metadata": {},
   "outputs": [],
   "source": [
    "urlroot + urledition"
   ]
  },
  {
   "cell_type": "markdown",
   "metadata": {},
   "source": [
    "### 1.1 dev scrape main #1 page"
   ]
  },
  {
   "cell_type": "code",
   "execution_count": null,
   "metadata": {},
   "outputs": [],
   "source": [
    "# dev scraping\n",
    "import requests\n",
    "from bs4 import BeautifulSoup\n",
    "\n",
    "URL = urlroot + urledition\n",
    "page = requests.get(URL)\n",
    "\n",
    "thesoup = BeautifulSoup(page.content, \"html.parser\")"
   ]
  },
  {
   "cell_type": "markdown",
   "metadata": {},
   "source": [
    "#### 1.1.1 Edition"
   ]
  },
  {
   "cell_type": "code",
   "execution_count": null,
   "metadata": {},
   "outputs": [],
   "source": [
    "# Edition\n",
    "def edition(asoup):\n",
    "    ed = asoup.find(id=\"nome_titulo_lb\")\n",
    "    edl = ed.contents\n",
    "    edl = [f\"{i}\".strip() for i in edl]\n",
    "    edl = [i.split(\">\")[1] if \">\" in i else i for i in edl]\n",
    "    edl = [i.split(\"<\")[0] if \"<\" in i else i for i in edl]\n",
    "    edl = [i.replace(\"n°\", \"\").strip() for i in edl if i != '']\n",
    "    return edl"
   ]
  },
  {
   "cell_type": "code",
   "execution_count": null,
   "metadata": {},
   "outputs": [],
   "source": [
    "ed = edition(thesoup)\n",
    "ed"
   ]
  },
  {
   "cell_type": "markdown",
   "metadata": {},
   "source": [
    "#### 1.1.2 Edition Contents"
   ]
  },
  {
   "cell_type": "code",
   "execution_count": null,
   "metadata": {},
   "outputs": [],
   "source": [
    "def contents(asoup):\n",
    "    results = asoup.find(id=\"texto_pag_detalhe\")\n",
    "    results = results.text\n",
    "    return results"
   ]
  },
  {
   "cell_type": "code",
   "execution_count": null,
   "metadata": {},
   "outputs": [],
   "source": [
    "editioncontents = contents(thesoup)\n",
    "print(editioncontents)"
   ]
  },
  {
   "cell_type": "markdown",
   "metadata": {},
   "source": [
    "#### 1.1.3 Stories"
   ]
  },
  {
   "cell_type": "code",
   "execution_count": null,
   "metadata": {},
   "outputs": [],
   "source": [
    "# All stories (individual)\n",
    "def stories(asoup):\n",
    "    storiesdict = {}\n",
    "    # page section\n",
    "    results = asoup.find(id=\"texto_pag_detalhe\")\n",
    "    # individual stories\n",
    "    stories = results.find_all(\"div\", class_=\"historia\")\n",
    "#     storieslist = [i.text for i in stories]\n",
    "    for i in range(len(stories)):\n",
    "        storiesdict[i] = stories[i].text\n",
    "    return storiesdict"
   ]
  },
  {
   "cell_type": "code",
   "execution_count": null,
   "metadata": {},
   "outputs": [],
   "source": [
    "stories = stories(thesoup)\n",
    "stories"
   ]
  },
  {
   "cell_type": "markdown",
   "metadata": {},
   "source": [
    "#### 1.1.4 Story Details"
   ]
  },
  {
   "cell_type": "code",
   "execution_count": null,
   "metadata": {},
   "outputs": [],
   "source": [
    "def storydetails(contents, stories, storynumber):\n",
    "    # return details only if story exists\n",
    "    if (storynumber == 0 or storynumber > len(stories)):\n",
    "        storydetails = None\n",
    "    # for any story before the last\n",
    "    elif storynumber < len(stories):\n",
    "        storydetails = contents.split(stories[storynumber-1])[1].split(stories[storynumber])[0]\n",
    "    # for the last story\n",
    "    elif storynumber == len(stories):\n",
    "        storydetails = contents.split(stories[storynumber-1])[1]\n",
    "    return storydetails"
   ]
  },
  {
   "cell_type": "code",
   "execution_count": null,
   "metadata": {},
   "outputs": [],
   "source": [
    "thestorydetail = storydetails(editioncontents, stories, 4)\n",
    "print(thestorydetail)"
   ]
  },
  {
   "cell_type": "markdown",
   "metadata": {},
   "source": [
    "#### 1.1.5 Main Character"
   ]
  },
  {
   "cell_type": "code",
   "execution_count": null,
   "metadata": {},
   "outputs": [],
   "source": [
    "def maincharacter(astorydetail):\n",
    "    character = astorydetail.split(\",\")[0].split(\"Personagens:\")[1].strip()\n",
    "    return character"
   ]
  },
  {
   "cell_type": "code",
   "execution_count": null,
   "metadata": {},
   "outputs": [],
   "source": [
    "thecharacter = maincharacter(thestorydetail)\n",
    "thecharacter"
   ]
  },
  {
   "cell_type": "markdown",
   "metadata": {},
   "source": [
    "#### 1.1.6 Original Title"
   ]
  },
  {
   "cell_type": "code",
   "execution_count": null,
   "metadata": {},
   "outputs": [],
   "source": [
    "def originaltitle(astorydetail):\n",
    "    title = astorydetail.split(\"Publicada originalmente em\")[1].split(\"(\")[0].strip()\n",
    "    return title"
   ]
  },
  {
   "cell_type": "code",
   "execution_count": null,
   "metadata": {},
   "outputs": [],
   "source": [
    "theoriginal = originaltitle(thestorydetail)\n",
    "theoriginal"
   ]
  },
  {
   "cell_type": "markdown",
   "metadata": {},
   "source": [
    "#### 1.1.7 Original Number"
   ]
  },
  {
   "cell_type": "code",
   "execution_count": null,
   "metadata": {},
   "outputs": [],
   "source": [
    "def originalnumber(astorydetail):\n",
    "    issue = astorydetail.split(\"Publicada originalmente em\")[1].split(\")\")[1].replace(\"n°\\xa0\", \"\").split(\"/\")[0].strip()\n",
    "    return issue"
   ]
  },
  {
   "cell_type": "code",
   "execution_count": null,
   "metadata": {},
   "outputs": [],
   "source": [
    "thenumber = originalnumber(thestorydetail)\n",
    "thenumber"
   ]
  },
  {
   "cell_type": "markdown",
   "metadata": {},
   "source": [
    "#### 1.1.8 Original Year"
   ]
  },
  {
   "cell_type": "code",
   "execution_count": null,
   "metadata": {},
   "outputs": [],
   "source": [
    "def originalyear(astorydetail):\n",
    "    year = astorydetail.split(\"Publicada originalmente em\")[1].split(\")\")[1].replace(\"n°\\xa0\", \"\").split(\"/\")[1].split()[0].strip()\n",
    "    return year"
   ]
  },
  {
   "cell_type": "code",
   "execution_count": null,
   "metadata": {},
   "outputs": [],
   "source": [
    "theyear = originalyear(thestorydetail)\n",
    "theyear"
   ]
  },
  {
   "cell_type": "code",
   "execution_count": null,
   "metadata": {},
   "outputs": [],
   "source": []
  },
  {
   "cell_type": "code",
   "execution_count": null,
   "metadata": {},
   "outputs": [],
   "source": []
  },
  {
   "cell_type": "markdown",
   "metadata": {},
   "source": [
    "## 2 retrieve list of links for all editions"
   ]
  },
  {
   "cell_type": "code",
   "execution_count": null,
   "metadata": {},
   "outputs": [],
   "source": [
    "def navigator(asoup):\n",
    "    outlist = []\n",
    "    nav = asoup.find(id=\"d0\")\n",
    "    for link in nav.find_all(\"a\"):\n",
    "        outlist.append(f'{link[\"href\"].replace(\"../\", \"\")}')\n",
    "    return outlist"
   ]
  },
  {
   "cell_type": "code",
   "execution_count": null,
   "metadata": {},
   "outputs": [],
   "source": [
    "alleditions = navigator(thesoup)"
   ]
  },
  {
   "cell_type": "code",
   "execution_count": null,
   "metadata": {},
   "outputs": [],
   "source": [
    "alleditions"
   ]
  },
  {
   "cell_type": "markdown",
   "metadata": {},
   "source": [
    "## 3. Save CSV and print log"
   ]
  },
  {
   "cell_type": "code",
   "execution_count": null,
   "metadata": {},
   "outputs": [],
   "source": []
  },
  {
   "cell_type": "code",
   "execution_count": null,
   "metadata": {},
   "outputs": [],
   "source": [
    "dict1 = {1:(\"a\", \"b\"), 2:(\"c\", \"d\")}"
   ]
  },
  {
   "cell_type": "code",
   "execution_count": null,
   "metadata": {},
   "outputs": [],
   "source": [
    "dict1[2][0]"
   ]
  },
  {
   "cell_type": "code",
   "execution_count": null,
   "metadata": {},
   "outputs": [],
   "source": [
    "list1 = [10, 9, 8]\n",
    "list1.insert(0, 1)\n",
    "list1"
   ]
  },
  {
   "cell_type": "code",
   "execution_count": null,
   "metadata": {},
   "outputs": [],
   "source": []
  },
  {
   "cell_type": "markdown",
   "metadata": {},
   "source": [
    "## 4. Test"
   ]
  },
  {
   "cell_type": "code",
   "execution_count": 1,
   "metadata": {},
   "outputs": [],
   "source": [
    "from odinson import *"
   ]
  },
  {
   "cell_type": "code",
   "execution_count": 2,
   "metadata": {},
   "outputs": [
    {
     "name": "stdout",
     "output_type": "stream",
     "text": [
      " =============================================\n",
      " Retrieving page contents for\n",
      " http://www.guiadosquadrinhos.com/edicao/herois-da-tv-n-2/htv0302/6275\n",
      " ---------------------------------------------\n",
      "  Heróis da TV #2\n",
      " ---------------------------------------------\n"
     ]
    }
   ],
   "source": [
    "# od = Odinson(\"http://www.guiadosquadrinhos.com/edicao/herois-da-tv-2-serie-n-1/htv0302/6274\")\n",
    "od = Odinson(\"http://www.guiadosquadrinhos.com/edicao/herois-da-tv-n-2/htv0302/6275\")"
   ]
  },
  {
   "cell_type": "code",
   "execution_count": null,
   "metadata": {},
   "outputs": [],
   "source": [
    "od.initialurl"
   ]
  },
  {
   "cell_type": "code",
   "execution_count": null,
   "metadata": {},
   "outputs": [],
   "source": [
    "od.editionurl"
   ]
  },
  {
   "cell_type": "code",
   "execution_count": null,
   "metadata": {},
   "outputs": [],
   "source": [
    "od.editionnumber"
   ]
  },
  {
   "cell_type": "code",
   "execution_count": null,
   "metadata": {},
   "outputs": [],
   "source": [
    "od.editioncontents[:800]"
   ]
  },
  {
   "cell_type": "code",
   "execution_count": null,
   "metadata": {},
   "outputs": [],
   "source": [
    "od.editioncontents"
   ]
  },
  {
   "cell_type": "code",
   "execution_count": null,
   "metadata": {},
   "outputs": [],
   "source": [
    "od.storytitles"
   ]
  },
  {
   "cell_type": "code",
   "execution_count": 3,
   "metadata": {},
   "outputs": [
    {
     "data": {
      "text/plain": [
       "{0: '\\nPersonagens:  Capitão Marvel,  Rick Jones,  Hulk,  Mordecai Boggs,  Capitão América,  Vingadores,  Thor,  Homem de Ferro,  Gigante,  Yon-Rogg\\nRoteiro:  Roy Thomas Desenho:  Gil Kane Arte-Final:  Dan Adkins Cores:  Rita de Carvalho Letrista:  José Belmiro Editor original:  Stan Lee\\nPublicada originalmente em   Captain Marvel (1968) n°\\xa020/1970 - Marvel Comics\\r\\n             \\r\\nTítulo original americano: “The hunter and the holocaust”.\\r\\n\\r\\n\\r\\n               ',\n",
       " 1: '\\nPersonagens:  Capitão Marvel,  Rick Jones,  Hulk\\nRoteiro:  Roy Thomas Desenho:  Gil Kane Arte-Final:  Dan Adkins Cores:  Rita de Carvalho Letrista:  José Belmiro Editor original:  Stan Lee\\nPublicada originalmente em   Captain Marvel (1968) n°\\xa021/1970 - Marvel Comics\\r\\n             \\r\\nTítulo original americano: “Here comes the Hulk!”.\\r\\n\\r\\n\\r\\n               ',\n",
       " 2: '\\nPersonagens:  Homem de Ferro,  Fantasma (Sabotador),  Pepper Potts,  Happy Hogan\\nRoteiro:  Stan Lee Desenho:  Don Heck Arte-Final:  Dick Ayers Cores:  Rita de Carvalho Letrista:  Natan Soares Editor original:  Stan Lee\\nPublicada originalmente em   Tales of Suspense (1959) n°\\xa063/1965 - Marvel Comics\\r\\n             \\r\\nTítulo original: \"Somewhere lurks the Phantom!\".\\r\\n\\r\\n\\r\\n               ',\n",
       " 3: '\\nPersonagens:  Campeões,  Anjo,  Hércules,  Homem de Gelo,  Motoqueiro Fantasma,  Viúva Negra II,  Dionísio,  Plutão,  Ares,  Rainha Hipólita,  Zeus,  Caçador de Zeus,  Afrodite\\nArgumento:  Tony Isabella Roteiro:  Bill Mantlo Desenho:  George Tuska Arte-Final:  Vince Colletta Cores:  Ângela Letrista:  Natan Soares Editor original:  Marv Wolfman\\nPublicada originalmente em   Champions, The (1975) n°\\xa03/1976 - Marvel Comics\\r\\n             \\r\\nTítulo original: \"Assault on Olympus\".\\r\\n\\r\\n\\r\\n               ',\n",
       " 4: '\\nPersonagens:  Shang-Chi - Mestre do Kung Fu\\nRoteiro:  Gerry Conway,  Doug Moench Desenho:  Paul Gulacy Arte-Final:  Allen \"Al\" Milgrom Editor original:  Roy Thomas\\nPublicada originalmente em   Master of Kung Fu (1974) n°\\xa020/1974 - Marvel Comics\\r\\n             \\r\\nTítulo original americano: “Weapon of the soul”.O roteirista da 1ª parte é Gerry Conway e o da 2ª parte é o Doug Moench.\\r\\n\\r\\n\\r\\n               ',\n",
       " 5: '\\nPersonagens:  Homem-Formiga,  Besouro Escarlate\\nRoteiro:  Roy Thomas Desenho:  Ross Andru Arte-Final:  Mike Esposito - ‘Joe Gaudioso/Mickey Demeo’ Editor original:  Stan Lee\\nPublicada originalmente em   Iron Man (1968) n°\\xa044/1972 - Marvel Comics\\r\\n             \\r\\nTítulo original: Armageddon on Avenue \"A\".\\r\\n\\r\\n\\r\\n               ',\n",
       " 6: '\\nPersonagens:  Motoqueiro Fantasma\\nRoteiro:  Bill Mantlo Desenho:  George Tuska Arte-Final:  Vince Colletta Editor original:  Marv Wolfman\\nPublicada originalmente em   Ghost Rider (1973) n°\\xa016/1976 - Marvel Comics\\r\\n             \\r\\nTítulo original: \"Blood in the waters\".\\r\\n\\r\\n\\r\\n               \\r\\n               \\r\\n\\r\\n              '}"
      ]
     },
     "execution_count": 3,
     "metadata": {},
     "output_type": "execute_result"
    }
   ],
   "source": [
    "od.storydetails"
   ]
  },
  {
   "cell_type": "code",
   "execution_count": 4,
   "metadata": {},
   "outputs": [
    {
     "ename": "IndexError",
     "evalue": "list index out of range",
     "output_type": "error",
     "traceback": [
      "\u001b[0;31m---------------------------------------------------------------------------\u001b[0m",
      "\u001b[0;31mIndexError\u001b[0m                                Traceback (most recent call last)",
      "\u001b[0;32m<ipython-input-4-8d75cc0c6a46>\u001b[0m in \u001b[0;36m<module>\u001b[0;34m\u001b[0m\n\u001b[1;32m      1\u001b[0m \u001b[0;31m# troubleshoot\u001b[0m\u001b[0;34m\u001b[0m\u001b[0;34m\u001b[0m\u001b[0;34m\u001b[0m\u001b[0m\n\u001b[1;32m      2\u001b[0m \u001b[0mi\u001b[0m \u001b[0;34m=\u001b[0m \u001b[0;36m0\u001b[0m\u001b[0;34m\u001b[0m\u001b[0;34m\u001b[0m\u001b[0m\n\u001b[0;32m----> 3\u001b[0;31m \u001b[0msumdict\u001b[0m \u001b[0;34m=\u001b[0m \u001b[0mod\u001b[0m\u001b[0;34m.\u001b[0m\u001b[0mstorydetails\u001b[0m\u001b[0;34m[\u001b[0m\u001b[0mi\u001b[0m\u001b[0;34m]\u001b[0m\u001b[0;34m.\u001b[0m\u001b[0msplit\u001b[0m\u001b[0;34m(\u001b[0m\u001b[0;34m'\".'\u001b[0m\u001b[0;34m)\u001b[0m\u001b[0;34m[\u001b[0m\u001b[0;36m1\u001b[0m\u001b[0;34m]\u001b[0m\u001b[0;34m.\u001b[0m\u001b[0msplit\u001b[0m\u001b[0;34m(\u001b[0m\u001b[0;34m\"\\r\\n\"\u001b[0m\u001b[0;34m)\u001b[0m\u001b[0;34m[\u001b[0m\u001b[0;36m0\u001b[0m\u001b[0;34m]\u001b[0m\u001b[0;34m.\u001b[0m\u001b[0mstrip\u001b[0m\u001b[0;34m(\u001b[0m\u001b[0;34m)\u001b[0m\u001b[0;34m\u001b[0m\u001b[0;34m\u001b[0m\u001b[0m\n\u001b[0m\u001b[1;32m      4\u001b[0m \u001b[0msumdict\u001b[0m\u001b[0;34m\u001b[0m\u001b[0;34m\u001b[0m\u001b[0m\n",
      "\u001b[0;31mIndexError\u001b[0m: list index out of range"
     ]
    }
   ],
   "source": [
    "# troubleshoot\n",
    "i = 0\n",
    "sumdict = od.storydetails[i].split('\".')[1].split(\"\\r\\n\")[0].strip()\n",
    "sumdict"
   ]
  },
  {
   "cell_type": "code",
   "execution_count": null,
   "metadata": {},
   "outputs": [],
   "source": [
    "od.maincharacter"
   ]
  },
  {
   "cell_type": "code",
   "execution_count": null,
   "metadata": {},
   "outputs": [],
   "source": [
    "od.originaltitle"
   ]
  },
  {
   "cell_type": "code",
   "execution_count": null,
   "metadata": {},
   "outputs": [],
   "source": [
    "od.originalnumber"
   ]
  },
  {
   "cell_type": "code",
   "execution_count": null,
   "metadata": {},
   "outputs": [],
   "source": [
    "od.editionnumber[0] "
   ]
  },
  {
   "cell_type": "code",
   "execution_count": null,
   "metadata": {},
   "outputs": [],
   "source": [
    "od.editiondf"
   ]
  },
  {
   "cell_type": "code",
   "execution_count": null,
   "metadata": {},
   "outputs": [],
   "source": [
    "pd.concat"
   ]
  },
  {
   "cell_type": "code",
   "execution_count": null,
   "metadata": {},
   "outputs": [],
   "source": [
    "import datetime"
   ]
  },
  {
   "cell_type": "code",
   "execution_count": null,
   "metadata": {},
   "outputs": [],
   "source": [
    "datetime.datetime.strftime(datetime.datetime.now(), '%Y%m%d%H%M')"
   ]
  },
  {
   "cell_type": "code",
   "execution_count": null,
   "metadata": {},
   "outputs": [],
   "source": []
  }
 ],
 "metadata": {
  "kernelspec": {
   "display_name": "Python 3",
   "language": "python",
   "name": "python3"
  },
  "language_info": {
   "codemirror_mode": {
    "name": "ipython",
    "version": 3
   },
   "file_extension": ".py",
   "mimetype": "text/x-python",
   "name": "python",
   "nbconvert_exporter": "python",
   "pygments_lexer": "ipython3",
   "version": "3.7.2"
  }
 },
 "nbformat": 4,
 "nbformat_minor": 4
}
