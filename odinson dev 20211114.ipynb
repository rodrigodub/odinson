{
 "cells": [
  {
   "cell_type": "markdown",
   "metadata": {},
   "source": [
    "# odinson\n",
    "Retrieve original Marvel Comics editions for stories published in old brazilian comics\n",
    "\n",
    "##### 2021.11.14\n",
    "\n",
    "---\n",
    "\n",
    "## Souces\n",
    "\n",
    "[Guia dos Quadrinhos](http://www.guiadosquadrinhos.com/)\n",
    "- [Heróis da TV](http://www.guiadosquadrinhos.com/edicao/herois-da-tv-2-serie-n-1/htv0302/6274)\n",
    "- [Superaventuras Marvel](http://www.guiadosquadrinhos.com/edicao/superaventuras-marvel-n-1/sam0301/7927)\n",
    "- [Almanaque Premiere Marvel](http://www.guiadosquadrinhos.com/edicao/almanaque-premiere-marvel-n-1/apm02001/18611)\n",
    "\n",
    "---\n"
   ]
  },
  {
   "cell_type": "markdown",
   "metadata": {},
   "source": [
    "## 1. Develop retrieving:\n",
    "- edition\n",
    "    - id=\"nome_titulo_lb\"\n",
    "- ~cover image? link?~\n",
    "    - id=\"ampliar_capa\"\n",
    "- story (portuguese)\n",
    "    - all: id=\"texto_pag_detalhe\"\n",
    "- main character\n",
    "- original publication\n",
    "- year\n",
    "- original title"
   ]
  },
  {
   "cell_type": "code",
   "execution_count": 141,
   "metadata": {},
   "outputs": [],
   "source": [
    "urlroot = \"http://www.guiadosquadrinhos.com/\"\n",
    "# urledition = \"edicao/herois-da-tv-2-serie-n-1/htv0302/6274\"\n",
    "urledition = \"edicao/superaventuras-marvel-n-1/sam0301/7927\""
   ]
  },
  {
   "cell_type": "code",
   "execution_count": 153,
   "metadata": {},
   "outputs": [
    {
     "data": {
      "text/plain": [
       "'http://www.guiadosquadrinhos.com/edicao/superaventuras-marvel-n-1/sam0301/7927'"
      ]
     },
     "execution_count": 153,
     "metadata": {},
     "output_type": "execute_result"
    }
   ],
   "source": [
    "urlroot + urledition"
   ]
  },
  {
   "cell_type": "markdown",
   "metadata": {},
   "source": [
    "### 1.1 dev scrape main #1 page"
   ]
  },
  {
   "cell_type": "code",
   "execution_count": 143,
   "metadata": {},
   "outputs": [],
   "source": [
    "# dev scraping\n",
    "import requests\n",
    "from bs4 import BeautifulSoup\n",
    "\n",
    "URL = urlroot + urledition\n",
    "page = requests.get(URL)\n",
    "\n",
    "thesoup = BeautifulSoup(page.content, \"html.parser\")"
   ]
  },
  {
   "cell_type": "markdown",
   "metadata": {},
   "source": [
    "#### 1.1.1 Edition"
   ]
  },
  {
   "cell_type": "code",
   "execution_count": 90,
   "metadata": {},
   "outputs": [],
   "source": [
    "# Edition\n",
    "def edition(asoup):\n",
    "    ed = asoup.find(id=\"nome_titulo_lb\")\n",
    "    edl = ed.contents\n",
    "    edl = [f\"{i}\".strip() for i in edl]\n",
    "    edl = [i.split(\">\")[1] if \">\" in i else i for i in edl]\n",
    "    edl = [i.split(\"<\")[0] if \"<\" in i else i for i in edl]\n",
    "    edl = [i.replace(\"n°\", \"\").strip() for i in edl if i != '']\n",
    "    return edl"
   ]
  },
  {
   "cell_type": "code",
   "execution_count": 126,
   "metadata": {},
   "outputs": [
    {
     "data": {
      "text/plain": [
       "['Heróis da TV', '2ª Série -', '1']"
      ]
     },
     "execution_count": 126,
     "metadata": {},
     "output_type": "execute_result"
    }
   ],
   "source": [
    "ed = edition(thesoup)\n",
    "ed"
   ]
  },
  {
   "cell_type": "markdown",
   "metadata": {},
   "source": [
    "#### 1.1.2 Edition Contents"
   ]
  },
  {
   "cell_type": "code",
   "execution_count": 92,
   "metadata": {},
   "outputs": [],
   "source": [
    "def contents(asoup):\n",
    "    results = asoup.find(id=\"texto_pag_detalhe\")\n",
    "    results = results.text\n",
    "    return results"
   ]
  },
  {
   "cell_type": "code",
   "execution_count": 93,
   "metadata": {},
   "outputs": [
    {
     "name": "stdout",
     "output_type": "stream",
     "text": [
      "\n",
      "Crédito da capa e editor\n",
      "\n",
      "Editor:  Dorival Vitor Lopes - ‘Dvl’,  Helcio de Carvalho\n",
      "\n",
      "Primeira aparição de personagens nesta edição: \n",
      "Mercenário II\n",
      "A lei do terror\n",
      "Arco: Marcado Para Morrer  - Parte 2\n",
      "Personagens:  Demolidor,  Mercenário II,  Viúva Negra II,  Ben Urich,  Heather Glenn,  Tucão,  Lark Logan,  Foggy Nelson,  Becky Blake\n",
      "Roteiro:  Roger McKenzie Desenho:  Frank Miller Arte-Final:  Klaus Janson Cores:  Cleusa M. C. Acosta Letrista:  Edison Gasparim Tradutor:  Jotapê Martins Editor original:  Allen \"Al\" Milgrom,  Jim Shooter,  Mary Jo Duffy\n",
      "Publicada originalmente em   Daredevil (1964) n° 160/1979 - Marvel Comics\n",
      "             \n",
      "Título original: \"In the hands of Bullseye\".Maxwell Glenn está morto. O namoro de Matt Murdock e Heather Glenn fica abalado quando ele se recusa a deixar de ser o Demolidor para ficar com ela. Deprimido e precisando desabafar, o herói decide fazer uma visita à sua velha parceira, e outrora amante, Viúva Negra, recém-chegada à Nova York. Mas, ao chegar no apartamento da moça, o herói descobre que ela foi raptada como parte de um desafio de seu nêmesis, o Mercenário.17 Páginas\n",
      "\n",
      "\n",
      "               Na beira do abismo\n",
      "Arco: Marcado Para Morrer  - Parte 3\n",
      "Personagens:  Demolidor,  Ben Urich,  Viúva Negra II,  Mercenário II,  Tucão,  Eric Slaughter\n",
      "Roteiro:  Roger McKenzie Desenho:  Frank Miller Arte-Final:  Klaus Janson Cores:  Cleusa M. C. Acosta Letrista:  Edison Gasparim Tradutor:  Jotapê Martins Editor original:  Allen \"Al\" Milgrom,  Jim Shooter,  Mary Jo Duffy\n",
      "Publicada originalmente em   Daredevil (1964) n° 161/1979 - Marvel Comics\n",
      "             \n",
      "Título original: \"To Dare the Devil\".Atraído para o parque de diversões Coney Island, o Demolidor precisa encarar o Mercenário e os capangas de seu aliado, o gangster Eric Slaughter, para salvar a Viúva Negra. Enquanto isso, o jornalista Ben Urich fica cada vez mais perto de descobrir o mistério que envolve o advogado cego Matt Murdock e o vigilante da Cozinha do Inferno.17 Páginas\n",
      "\n",
      "\n",
      "               O habitante das trevas\n",
      "Personagens:  Conan, O Bárbaro,  Yaila,  Rainha Fátima,  Yulek,  Habitante das Trevas\n",
      "Roteiro:  Roy Thomas Arte:  Barry Windsor-Smith Cores:  Rita de Carvalho Letrista:  Edison Gasparim Tradutor:  Jotapê Martins Editor original:  Roy Thomas,  Len Wein,  Marv Wolfman\n",
      "Publicada originalmente em   Conan The Barbarian (1970) n° 12/1971 - Marvel Comics\n",
      "             \n",
      "Título original \"The Dweller in the Dark\".Numa cidade na fronteira de Zamora, Conan conquista o amor da rainha local. Logo, porém, a paixão se transforma em ódio e o Bárbaro descobre o horror que se esconde por baixo das paredes do palácio real. Existem três versões desta HQ: a com a nudez feminina censurada (“Conan the Barbarian” n° 12), a com a nudez sem censura (“Savage Tales” n° 2) e com a nudez semicensurada (“Savage Sword TPB” n° 12).16 Páginas\n",
      "\n",
      "\n",
      "               O herói que veio do inferno\n",
      "Personagens:  Luke Cage,  Noah Burstein,  Shades,  Quirt,  Albert \"Billy Bob\" Rackham,  Comanche\n",
      "Roteiro:  Archie Goodwin Desenho:  John Romita,  George Tuska Arte-Final:  John Romita,  Billy Graham Cores:  Rita de Carvalho Letrista:  José Luiz Torres Pinto Tradutor:  Jotapê Martins Editor original:  Stan Lee\n",
      "Publicada originalmente em   Hero For Hire (1972) n° 1/1972 - Marvel Comics\n",
      "             \n",
      "Título original \"Out of hell -- a hero!\".A origem de Cage: incriminado e condenado à prisão, ele concorda em ser cobaia de um experimento na penitenciária. Mas o teste é sabotado por um guarda corrupto e nosso herói quase morre. Depois, ele descobre que o incidente lhe conferiu uma pele à prova de balas. Saindo da cadeia, ele, valendo-se do novo poder, resolve tirar vantagem, estabelecendo um escritório e passando a ser herói de aluguel.  21 páginas (das 23 originais).21 Páginas\n",
      "\n",
      "\n",
      "               \n",
      "               \n",
      "\n",
      "              \n"
     ]
    }
   ],
   "source": [
    "editioncontents = contents(thesoup)\n",
    "print(editioncontents)"
   ]
  },
  {
   "cell_type": "markdown",
   "metadata": {},
   "source": [
    "#### 1.1.3 Stories"
   ]
  },
  {
   "cell_type": "code",
   "execution_count": 94,
   "metadata": {},
   "outputs": [],
   "source": [
    "# All stories (individual)\n",
    "def stories(asoup):\n",
    "    # page section\n",
    "    results = asoup.find(id=\"texto_pag_detalhe\")\n",
    "    # individual stories\n",
    "    stories = results.find_all(\"div\", class_=\"historia\")\n",
    "    stories = [i.text for i in stories]\n",
    "    return stories"
   ]
  },
  {
   "cell_type": "code",
   "execution_count": 95,
   "metadata": {},
   "outputs": [
    {
     "data": {
      "text/plain": [
       "['A lei do terror',\n",
       " 'Na beira do abismo',\n",
       " 'O habitante das trevas',\n",
       " 'O herói que veio do inferno']"
      ]
     },
     "execution_count": 95,
     "metadata": {},
     "output_type": "execute_result"
    }
   ],
   "source": [
    "stories = stories(thesoup)\n",
    "stories"
   ]
  },
  {
   "cell_type": "markdown",
   "metadata": {},
   "source": [
    "#### 1.1.4 Story Details"
   ]
  },
  {
   "cell_type": "code",
   "execution_count": 96,
   "metadata": {},
   "outputs": [],
   "source": [
    "def storydetails(contents, stories, storynumber):\n",
    "    # return details only if story exists\n",
    "    if (storynumber == 0 or storynumber > len(stories)):\n",
    "        storydetails = None\n",
    "    # for any story before the last\n",
    "    elif storynumber < len(stories):\n",
    "        storydetails = contents.split(stories[storynumber-1])[1].split(stories[storynumber])[0]\n",
    "    # for the last story\n",
    "    elif storynumber == len(stories):\n",
    "        storydetails = contents.split(stories[storynumber-1])[1]\n",
    "    return storydetails"
   ]
  },
  {
   "cell_type": "code",
   "execution_count": 118,
   "metadata": {},
   "outputs": [
    {
     "name": "stdout",
     "output_type": "stream",
     "text": [
      "\n",
      "Personagens:  Luke Cage,  Noah Burstein,  Shades,  Quirt,  Albert \"Billy Bob\" Rackham,  Comanche\n",
      "Roteiro:  Archie Goodwin Desenho:  John Romita,  George Tuska Arte-Final:  John Romita,  Billy Graham Cores:  Rita de Carvalho Letrista:  José Luiz Torres Pinto Tradutor:  Jotapê Martins Editor original:  Stan Lee\n",
      "Publicada originalmente em   Hero For Hire (1972) n° 1/1972 - Marvel Comics\n",
      "             \n",
      "Título original \"Out of hell -- a hero!\".A origem de Cage: incriminado e condenado à prisão, ele concorda em ser cobaia de um experimento na penitenciária. Mas o teste é sabotado por um guarda corrupto e nosso herói quase morre. Depois, ele descobre que o incidente lhe conferiu uma pele à prova de balas. Saindo da cadeia, ele, valendo-se do novo poder, resolve tirar vantagem, estabelecendo um escritório e passando a ser herói de aluguel.  21 páginas (das 23 originais).21 Páginas\n",
      "\n",
      "\n",
      "               \n",
      "               \n",
      "\n",
      "              \n"
     ]
    }
   ],
   "source": [
    "thestorydetail = storydetails(editioncontents, stories, 4)\n",
    "print(thestorydetail)"
   ]
  },
  {
   "cell_type": "markdown",
   "metadata": {},
   "source": [
    "#### 1.1.5 Main Character"
   ]
  },
  {
   "cell_type": "code",
   "execution_count": 100,
   "metadata": {},
   "outputs": [],
   "source": [
    "def maincharacter(astorydetail):\n",
    "    character = astorydetail.split(\",\")[0].split(\"Personagens:\")[1].strip()\n",
    "    return character"
   ]
  },
  {
   "cell_type": "code",
   "execution_count": 119,
   "metadata": {},
   "outputs": [
    {
     "data": {
      "text/plain": [
       "'Luke Cage'"
      ]
     },
     "execution_count": 119,
     "metadata": {},
     "output_type": "execute_result"
    }
   ],
   "source": [
    "thecharacter = maincharacter(thestorydetail)\n",
    "thecharacter"
   ]
  },
  {
   "cell_type": "markdown",
   "metadata": {},
   "source": [
    "#### 1.1.6 Original Title"
   ]
  },
  {
   "cell_type": "code",
   "execution_count": 102,
   "metadata": {},
   "outputs": [],
   "source": [
    "def originaltitle(astorydetail):\n",
    "    title = astorydetail.split(\"Publicada originalmente em\")[1].split(\"(\")[0].strip()\n",
    "    return title"
   ]
  },
  {
   "cell_type": "code",
   "execution_count": 120,
   "metadata": {},
   "outputs": [
    {
     "data": {
      "text/plain": [
       "'Hero For Hire'"
      ]
     },
     "execution_count": 120,
     "metadata": {},
     "output_type": "execute_result"
    }
   ],
   "source": [
    "theoriginal = originaltitle(thestorydetail)\n",
    "theoriginal"
   ]
  },
  {
   "cell_type": "markdown",
   "metadata": {},
   "source": [
    "#### 1.1.7 Original Number"
   ]
  },
  {
   "cell_type": "code",
   "execution_count": 104,
   "metadata": {},
   "outputs": [],
   "source": [
    "def originalnumber(astorydetail):\n",
    "    issue = astorydetail.split(\"Publicada originalmente em\")[1].split(\")\")[1].replace(\"n°\\xa0\", \"\").split(\"/\")[0].strip()\n",
    "    return issue"
   ]
  },
  {
   "cell_type": "code",
   "execution_count": 121,
   "metadata": {},
   "outputs": [
    {
     "data": {
      "text/plain": [
       "'1'"
      ]
     },
     "execution_count": 121,
     "metadata": {},
     "output_type": "execute_result"
    }
   ],
   "source": [
    "thenumber = originalnumber(thestorydetail)\n",
    "thenumber"
   ]
  },
  {
   "cell_type": "markdown",
   "metadata": {},
   "source": [
    "#### 1.1.8 Original Year"
   ]
  },
  {
   "cell_type": "code",
   "execution_count": 106,
   "metadata": {},
   "outputs": [],
   "source": [
    "def originalyear(astorydetail):\n",
    "    year = astorydetail.split(\"Publicada originalmente em\")[1].split(\")\")[1].replace(\"n°\\xa0\", \"\").split(\"/\")[1].split()[0].strip()\n",
    "    return year"
   ]
  },
  {
   "cell_type": "code",
   "execution_count": 123,
   "metadata": {},
   "outputs": [
    {
     "data": {
      "text/plain": [
       "'1972'"
      ]
     },
     "execution_count": 123,
     "metadata": {},
     "output_type": "execute_result"
    }
   ],
   "source": [
    "theyear = originalyear(thestorydetail)\n",
    "theyear"
   ]
  },
  {
   "cell_type": "code",
   "execution_count": null,
   "metadata": {},
   "outputs": [],
   "source": []
  },
  {
   "cell_type": "code",
   "execution_count": null,
   "metadata": {},
   "outputs": [],
   "source": []
  },
  {
   "cell_type": "markdown",
   "metadata": {},
   "source": [
    "## 2 retrieve list of links for all editions"
   ]
  },
  {
   "cell_type": "code",
   "execution_count": 150,
   "metadata": {},
   "outputs": [],
   "source": [
    "def navigator(asoup):\n",
    "    outlist = []\n",
    "    nav = asoup.find(id=\"d0\")\n",
    "    for link in nav.find_all(\"a\"):\n",
    "        outlist.append(f'{link[\"href\"].replace(\"../\", \"\")}')\n",
    "    return outlist"
   ]
  },
  {
   "cell_type": "code",
   "execution_count": 151,
   "metadata": {},
   "outputs": [],
   "source": [
    "alleditions = navigator(thesoup)"
   ]
  },
  {
   "cell_type": "code",
   "execution_count": 152,
   "metadata": {},
   "outputs": [
    {
     "data": {
      "text/plain": [
       "['edicao/superaventuras-marvel-n-2/sam0301/7928',\n",
       " 'edicao/superaventuras-marvel-n-3/sam0301/7929',\n",
       " 'edicao/superaventuras-marvel-n-4/sam0301/7930',\n",
       " 'edicao/superaventuras-marvel-n-5/sam0301/7931',\n",
       " 'edicao/superaventuras-marvel-n-6/sam0301/7932',\n",
       " 'edicao/superaventuras-marvel-n-7/sam0301/7933',\n",
       " 'edicao/superaventuras-marvel-n-8/sam0301/7934',\n",
       " 'edicao/superaventuras-marvel-n-9/sam0301/7935',\n",
       " 'edicao/superaventuras-marvel-n-10/sam0301/7936',\n",
       " 'edicao/superaventuras-marvel-n-11/sam0301/7937',\n",
       " 'edicao/superaventuras-marvel-n-12/sam0301/7938',\n",
       " 'edicao/superaventuras-marvel-n-13/sam0301/7939',\n",
       " 'edicao/superaventuras-marvel-n-14/sam0301/7940',\n",
       " 'edicao/superaventuras-marvel-n-15/sam0301/7941',\n",
       " 'edicao/superaventuras-marvel-n-16/sam0301/7942',\n",
       " 'edicao/superaventuras-marvel-n-17/sam0301/7943',\n",
       " 'edicao/superaventuras-marvel-n-18/sam0301/7944',\n",
       " 'edicao/superaventuras-marvel-n-19/sam0301/7945',\n",
       " 'edicao/superaventuras-marvel-n-20/sam0301/7946',\n",
       " 'edicao/superaventuras-marvel-n-21/sam0301/7947',\n",
       " 'edicao/superaventuras-marvel-n-22/sam0301/7948',\n",
       " 'edicao/superaventuras-marvel-n-23/sam0301/7949',\n",
       " 'edicao/superaventuras-marvel-n-24/sam0301/7950',\n",
       " 'edicao/superaventuras-marvel-n-25/sam0301/7951',\n",
       " 'edicao/superaventuras-marvel-n-26/sam0301/7952',\n",
       " 'edicao/superaventuras-marvel-n-27/sam0301/7953',\n",
       " 'edicao/superaventuras-marvel-n-28/sam0301/7954',\n",
       " 'edicao/superaventuras-marvel-n-29/sam0301/7955',\n",
       " 'edicao/superaventuras-marvel-n-30/sam0301/7956',\n",
       " 'edicao/superaventuras-marvel-n-31/sam0301/7957',\n",
       " 'edicao/superaventuras-marvel-n-32/sam0301/7958',\n",
       " 'edicao/superaventuras-marvel-n-33/sam0301/7959',\n",
       " 'edicao/superaventuras-marvel-n-34/sam0301/7960',\n",
       " 'edicao/superaventuras-marvel-n-35/sam0301/7961',\n",
       " 'edicao/superaventuras-marvel-n-36/sam0301/7962',\n",
       " 'edicao/superaventuras-marvel-n-37/sam0301/7963',\n",
       " 'edicao/superaventuras-marvel-n-38/sam0301/7964',\n",
       " 'edicao/superaventuras-marvel-n-39/sam0301/7965',\n",
       " 'edicao/superaventuras-marvel-n-40/sam0301/7966',\n",
       " 'edicao/superaventuras-marvel-n-41/sam0301/7967',\n",
       " 'edicao/superaventuras-marvel-n-42/sam0301/7968',\n",
       " 'edicao/superaventuras-marvel-n-43/sam0301/7969',\n",
       " 'edicao/superaventuras-marvel-n-44/sam0301/7970',\n",
       " 'edicao/superaventuras-marvel-n-45/sam0301/7971',\n",
       " 'edicao/superaventuras-marvel-n-46/sam0301/7972',\n",
       " 'edicao/superaventuras-marvel-n-47/sam0301/7973',\n",
       " 'edicao/superaventuras-marvel-n-48/sam0301/7974',\n",
       " 'edicao/superaventuras-marvel-n-49/sam0301/7975',\n",
       " 'edicao/superaventuras-marvel-n-50/sam0301/7976',\n",
       " 'edicao/superaventuras-marvel-n-51/sam0301/7977',\n",
       " 'edicao/superaventuras-marvel-n-52/sam0301/7978',\n",
       " 'edicao/superaventuras-marvel-n-53/sam0301/7979',\n",
       " 'edicao/superaventuras-marvel-n-54/sam0301/7980',\n",
       " 'edicao/superaventuras-marvel-n-55/sam0301/7981',\n",
       " 'edicao/superaventuras-marvel-n-56/sam0301/7982',\n",
       " 'edicao/superaventuras-marvel-n-57/sam0301/7983',\n",
       " 'edicao/superaventuras-marvel-n-58/sam0301/7984',\n",
       " 'edicao/superaventuras-marvel-n-59/sam0301/7985',\n",
       " 'edicao/superaventuras-marvel-n-60/sam0301/7986',\n",
       " 'edicao/superaventuras-marvel-n-61/sam0301/7987',\n",
       " 'edicao/superaventuras-marvel-n-62/sam0301/7988',\n",
       " 'edicao/superaventuras-marvel-n-63/sam0301/7989',\n",
       " 'edicao/superaventuras-marvel-n-64/sam0301/7990',\n",
       " 'edicao/superaventuras-marvel-n-65/sam0301/7991',\n",
       " 'edicao/superaventuras-marvel-n-66/sam0301/7992',\n",
       " 'edicao/superaventuras-marvel-n-67/sam0301/7993',\n",
       " 'edicao/superaventuras-marvel-n-68/sam0301/7994',\n",
       " 'edicao/superaventuras-marvel-n-69/sam0301/7995',\n",
       " 'edicao/superaventuras-marvel-n-70/sam0301/7996',\n",
       " 'edicao/superaventuras-marvel-n-71/sam0301/7997',\n",
       " 'edicao/superaventuras-marvel-n-72/sam0301/7998',\n",
       " 'edicao/superaventuras-marvel-n-73/sam0301/7999',\n",
       " 'edicao/superaventuras-marvel-n-74/sam0301/8000',\n",
       " 'edicao/superaventuras-marvel-n-75/sam0301/8001',\n",
       " 'edicao/superaventuras-marvel-n-76/sam0301/8002',\n",
       " 'edicao/superaventuras-marvel-n-77/sam0301/8003',\n",
       " 'edicao/superaventuras-marvel-n-78/sam0301/8004',\n",
       " 'edicao/superaventuras-marvel-n-79/sam0301/8005',\n",
       " 'edicao/superaventuras-marvel-n-80/sam0301/8006',\n",
       " 'edicao/superaventuras-marvel-n-81/sam0301/8007',\n",
       " 'edicao/superaventuras-marvel-n-82/sam0301/8008',\n",
       " 'edicao/superaventuras-marvel-n-83/sam0301/8009',\n",
       " 'edicao/superaventuras-marvel-n-84/sam0301/8010',\n",
       " 'edicao/superaventuras-marvel-n-85/sam0301/8011',\n",
       " 'edicao/superaventuras-marvel-n-86/sam0301/8012',\n",
       " 'edicao/superaventuras-marvel-n-87/sam0301/8013',\n",
       " 'edicao/superaventuras-marvel-n-88/sam0301/8014',\n",
       " 'edicao/superaventuras-marvel-n-89/sam0301/8015',\n",
       " 'edicao/superaventuras-marvel-n-90/sam0301/8016',\n",
       " 'edicao/superaventuras-marvel-n-91/sam0301/8017',\n",
       " 'edicao/superaventuras-marvel-n-92/sam0301/8018',\n",
       " 'edicao/superaventuras-marvel-n-93/sam0301/8019',\n",
       " 'edicao/superaventuras-marvel-n-94/sam0301/8020',\n",
       " 'edicao/superaventuras-marvel-n-95/sam0301/8021',\n",
       " 'edicao/superaventuras-marvel-n-96/sam0301/8022',\n",
       " 'edicao/superaventuras-marvel-n-97/sam0301/8023',\n",
       " 'edicao/superaventuras-marvel-n-98/sam0301/8024',\n",
       " 'edicao/superaventuras-marvel-n-99/sam0301/8025',\n",
       " 'edicao/superaventuras-marvel-n-100/sam0301/8026']"
      ]
     },
     "execution_count": 152,
     "metadata": {},
     "output_type": "execute_result"
    }
   ],
   "source": [
    "alleditions"
   ]
  },
  {
   "cell_type": "markdown",
   "metadata": {},
   "source": [
    "## 3. Save CSV and print log"
   ]
  },
  {
   "cell_type": "code",
   "execution_count": null,
   "metadata": {},
   "outputs": [],
   "source": []
  },
  {
   "cell_type": "code",
   "execution_count": 1,
   "metadata": {},
   "outputs": [],
   "source": [
    "dict1 = {1:(\"a\", \"b\"), 2:(\"c\", \"d\")}"
   ]
  },
  {
   "cell_type": "code",
   "execution_count": 2,
   "metadata": {},
   "outputs": [
    {
     "data": {
      "text/plain": [
       "'c'"
      ]
     },
     "execution_count": 2,
     "metadata": {},
     "output_type": "execute_result"
    }
   ],
   "source": [
    "dict1[2][0]"
   ]
  },
  {
   "cell_type": "code",
   "execution_count": null,
   "metadata": {},
   "outputs": [],
   "source": []
  },
  {
   "cell_type": "code",
   "execution_count": null,
   "metadata": {},
   "outputs": [],
   "source": []
  }
 ],
 "metadata": {
  "kernelspec": {
   "display_name": "Python 3",
   "language": "python",
   "name": "python3"
  },
  "language_info": {
   "codemirror_mode": {
    "name": "ipython",
    "version": 3
   },
   "file_extension": ".py",
   "mimetype": "text/x-python",
   "name": "python",
   "nbconvert_exporter": "python",
   "pygments_lexer": "ipython3",
   "version": "3.7.2"
  }
 },
 "nbformat": 4,
 "nbformat_minor": 4
}
