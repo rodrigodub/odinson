{
 "cells": [
  {
   "cell_type": "markdown",
   "metadata": {},
   "source": [
    "# odinson\n",
    "Retrieve original Marvel Comics editions for stories published in old brazilian comics\n",
    "\n",
    "##### 2021.11.14\n",
    "\n",
    "---\n",
    "\n",
    "## Souces\n",
    "\n",
    "[Guia dos Quadrinhos](http://www.guiadosquadrinhos.com/)\n",
    "- [Heróis da TV](http://www.guiadosquadrinhos.com/edicao/herois-da-tv-2-serie-n-1/htv0302/6274)\n",
    "- [Superaventuras Marvel](http://www.guiadosquadrinhos.com/edicao/superaventuras-marvel-n-1/sam0301/7927)\n",
    "- [Almanaque Premiere Marvel](http://www.guiadosquadrinhos.com/edicao/almanaque-premiere-marvel-n-1/apm02001/18611)\n",
    "\n",
    "---\n"
   ]
  },
  {
   "cell_type": "markdown",
   "metadata": {},
   "source": [
    "## 1. Develop retrieving:\n",
    "- edition\n",
    "    - id=\"nome_titulo_lb\"\n",
    "- ~cover image? link?~\n",
    "    - id=\"ampliar_capa\"\n",
    "- story (portuguese)\n",
    "    - all: id=\"texto_pag_detalhe\"\n",
    "- main character\n",
    "- original publication\n",
    "- year\n",
    "- original title"
   ]
  },
  {
   "cell_type": "code",
   "execution_count": 2,
   "metadata": {},
   "outputs": [],
   "source": [
    "htvurl = \"http://www.guiadosquadrinhos.com/edicao/herois-da-tv-2-serie-n-1/htv0302/6274\""
   ]
  },
  {
   "cell_type": "markdown",
   "metadata": {},
   "source": [
    "### 1.1 dev scrape main #1 page"
   ]
  },
  {
   "cell_type": "code",
   "execution_count": 3,
   "metadata": {},
   "outputs": [],
   "source": [
    "# dev scraping\n",
    "import requests\n",
    "from bs4 import BeautifulSoup\n",
    "\n",
    "URL = htvurl\n",
    "page = requests.get(URL)\n",
    "\n",
    "soup = BeautifulSoup(page.content, \"html.parser\")"
   ]
  },
  {
   "cell_type": "code",
   "execution_count": 90,
   "metadata": {},
   "outputs": [],
   "source": [
    "# Edition\n",
    "def edition(thesoup):\n",
    "    ed = thesoup.find(id=\"nome_titulo_lb\")\n",
    "#     edl = ed.text.strip()\n",
    "#     edl = ed.text\n",
    "#     edl = [i for i in ed.text]\n",
    "    edl = ed.contents\n",
    "    edl = [f\"{i}\".strip() for i in edl]\n",
    "    edl = [i.split(\">\")[1] if \">\" in i else i for i in edl]\n",
    "    edl = [i.split(\"<\")[0] if \"<\" in i else i for i in edl]\n",
    "    edl = [i.replace(\"n°\", \"\").strip() for i in edl if i != '']\n",
    "    return edl"
   ]
  },
  {
   "cell_type": "code",
   "execution_count": 91,
   "metadata": {},
   "outputs": [
    {
     "data": {
      "text/plain": [
       "['Heróis da TV', '2ª Série -', '1']"
      ]
     },
     "execution_count": 91,
     "metadata": {},
     "output_type": "execute_result"
    }
   ],
   "source": [
    "ed = edition(soup)\n",
    "ed"
   ]
  },
  {
   "cell_type": "code",
   "execution_count": 6,
   "metadata": {},
   "outputs": [
    {
     "data": {
      "text/plain": [
       "<a alt=\"Heróis da TV n° 1 - Abril\" href=\"http://www.guiadosquadrinhos.com/edicao/ShowImage.aspx?id=6274&amp;path=abril/h/htv0302001.jpg\" id=\"ampliar_capa\" title=\"Heróis da TV n° 1 - Abril\"><img alt=\"Heróis da TV n° 1 - Abril\" height=\"619\" src=\"http://www.guiadosquadrinhos.com/edicao/ShowImage.aspx?id=6274&amp;path=abril/h/htv0302001.jpg&amp;w=400&amp;h=619\" title=\"Heróis da TV n° 1 - Abril\" width=\"400\"/></a>"
      ]
     },
     "execution_count": 6,
     "metadata": {},
     "output_type": "execute_result"
    }
   ],
   "source": [
    "# Cover\n",
    "soup.find(id=\"ampliar_capa\")"
   ]
  },
  {
   "cell_type": "code",
   "execution_count": null,
   "metadata": {},
   "outputs": [],
   "source": [
    "# All stories (page section)\n",
    "results = soup.find(id=\"texto_pag_detalhe\")\n",
    "# print(results.prettify())\n",
    "results"
   ]
  },
  {
   "cell_type": "code",
   "execution_count": 10,
   "metadata": {},
   "outputs": [
    {
     "name": "stdout",
     "output_type": "stream",
     "text": [
      "<div class=\"historia\">O Devorador de Planetas</div>\n",
      "\n",
      "<div class=\"historia\">Deve um deus prevalecer?</div>\n",
      "\n",
      "<div class=\"historia\">Duelo de ferro</div>\n",
      "\n",
      "<div class=\"historia\">Amargo adeus</div>\n",
      "\n",
      "<div class=\"historia\">Meia-Noite traz a morte!</div>\n",
      "\n",
      "<div class=\"historia\">A chama e a fúria</div>\n",
      "\n"
     ]
    }
   ],
   "source": [
    "# All stories (individual)\n",
    "stories = results.find_all(\"div\", class_=\"historia\")\n",
    "for story in stories:\n",
    "    print(story, end=\"\\n\"*2)"
   ]
  },
  {
   "cell_type": "code",
   "execution_count": 11,
   "metadata": {},
   "outputs": [
    {
     "data": {
      "text/plain": [
       "[<div class=\"historia\">O Devorador de Planetas</div>,\n",
       " <div class=\"historia\">Deve um deus prevalecer?</div>,\n",
       " <div class=\"historia\">Duelo de ferro</div>,\n",
       " <div class=\"historia\">Amargo adeus</div>,\n",
       " <div class=\"historia\">Meia-Noite traz a morte!</div>,\n",
       " <div class=\"historia\">A chama e a fúria</div>]"
      ]
     },
     "execution_count": 11,
     "metadata": {},
     "output_type": "execute_result"
    }
   ],
   "source": [
    "stories"
   ]
  },
  {
   "cell_type": "code",
   "execution_count": null,
   "metadata": {},
   "outputs": [],
   "source": [
    "# tests\n",
    "# results\n",
    "# stories[0:2]\n",
    "# len(stories)\n",
    "stories[5]"
   ]
  },
  {
   "cell_type": "code",
   "execution_count": 50,
   "metadata": {},
   "outputs": [
    {
     "name": "stdout",
     "output_type": "stream",
     "text": [
      "\n",
      "<br/><strong>Personagens: </strong> <a href=\"../../../personagem/thor-(thor-odinson-(donald-blake-jake-olson))/14\">Thor</a>,  <a href=\"../../../personagem/galactus-(galan-)/105\">Galactus</a>,  <a href=\"../../../personagem/tana-nile/7919\">Tana Nile</a>,  <a href=\"../../../personagem/odin-(odin-borson)/305\">Odin</a>,  <a href=\"../../../personagem/sif-/342\">Sif</a>,  <a href=\"../../../personagem/registrador-211/5695\">Registrador 211</a>,  <a href=\"../../../personagem/ego-o-planeta-vivo/348\">Ego, O Planeta Vivo</a>\n",
      "<br/><strong>Roteiro: </strong> <a href=\"../../../artista/stan-lee/2\">Stan Lee</a> <br/><strong>Desenho: </strong> <a href=\"../../../artista/jack-kirby/1\">Jack Kirby</a> <br/><strong>Arte-Final: </strong> <a href=\"../../../artista/vince-colletta/46\">Vince Colletta</a> <br/><strong>Cores: </strong> <a href=\"../../../artista/rita-de-carvalho/1001\">Rita de Carvalho</a> <br/><strong>Letrista: </strong> <a href=\"../../../artista/natan-soares/3099\">Natan Soares</a> <br/><strong>Editor original: </strong> <a href=\"../../../artista/stan-lee/2\">Stan Lee</a>\n",
      "<br/>Publicada originalmente em   <a href=\"../../../edicao-estrangeira/thor-(1966)-n-160/261/5917\">Thor (1966) n° 160</a>/1969 - Marvel Comics\n",
      "             \n",
      "<br/>Título original americano: And Now... Galactus!\". Tana Nile pede ajuda ao deus do trovão para enfrentar o Devorador de Planetas, que ameaça inúmeros mundos.\n",
      "\n",
      "\n",
      "               \n"
     ]
    }
   ],
   "source": [
    "# Take the contents for 1 story\n",
    "storyno = 1\n",
    "\n",
    "if (storyno == 0 or storyno > len(stories)):\n",
    "    story = None\n",
    "# if storyno + 1 < len(stories):\n",
    "elif storyno < len(stories):\n",
    "    story = f\"{results}\".split(f\"{stories[storyno-1]}\")[1].split(f\"{stories[storyno]}\")[0]\n",
    "# elif storyno + 1 == len(stories):\n",
    "elif storyno == len(stories):\n",
    "    story = f\"{results}\".split(f\"{stories[storyno-1]}\")[1]\n",
    "elif (storyno == 0 or storyno > len(stories)):\n",
    "    story = None\n",
    "print(story)"
   ]
  },
  {
   "cell_type": "code",
   "execution_count": null,
   "metadata": {},
   "outputs": [],
   "source": []
  },
  {
   "cell_type": "code",
   "execution_count": null,
   "metadata": {},
   "outputs": [],
   "source": []
  },
  {
   "cell_type": "code",
   "execution_count": null,
   "metadata": {},
   "outputs": [],
   "source": []
  },
  {
   "cell_type": "code",
   "execution_count": null,
   "metadata": {},
   "outputs": [],
   "source": []
  },
  {
   "cell_type": "code",
   "execution_count": null,
   "metadata": {},
   "outputs": [],
   "source": []
  },
  {
   "cell_type": "code",
   "execution_count": null,
   "metadata": {},
   "outputs": [],
   "source": []
  },
  {
   "cell_type": "code",
   "execution_count": null,
   "metadata": {},
   "outputs": [],
   "source": []
  },
  {
   "cell_type": "markdown",
   "metadata": {},
   "source": [
    "### 1.2 retrieve list of links for all editions"
   ]
  },
  {
   "cell_type": "code",
   "execution_count": null,
   "metadata": {},
   "outputs": [],
   "source": []
  },
  {
   "cell_type": "code",
   "execution_count": null,
   "metadata": {},
   "outputs": [],
   "source": []
  },
  {
   "cell_type": "code",
   "execution_count": null,
   "metadata": {},
   "outputs": [],
   "source": []
  },
  {
   "cell_type": "code",
   "execution_count": null,
   "metadata": {},
   "outputs": [],
   "source": []
  }
 ],
 "metadata": {
  "kernelspec": {
   "display_name": "Python 3",
   "language": "python",
   "name": "python3"
  },
  "language_info": {
   "codemirror_mode": {
    "name": "ipython",
    "version": 3
   },
   "file_extension": ".py",
   "mimetype": "text/x-python",
   "name": "python",
   "nbconvert_exporter": "python",
   "pygments_lexer": "ipython3",
   "version": "3.7.2"
  }
 },
 "nbformat": 4,
 "nbformat_minor": 4
}
