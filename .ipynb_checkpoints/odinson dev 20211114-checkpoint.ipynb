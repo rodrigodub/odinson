{
 "cells": [
  {
   "cell_type": "markdown",
   "metadata": {},
   "source": [
    "# odinson\n",
    "Retrieve original Marvel Comics editions for stories published in old brazilian comics\n",
    "\n",
    "##### 2021.11.14\n",
    "\n",
    "---\n",
    "\n",
    "## Souces\n",
    "\n",
    "[Guia dos Quadrinhos](http://www.guiadosquadrinhos.com/)\n",
    "- [Heróis da TV](http://www.guiadosquadrinhos.com/edicao/herois-da-tv-2-serie-n-1/htv0302/6274)\n",
    "- [Superaventuras Marvel](http://www.guiadosquadrinhos.com/edicao/superaventuras-marvel-n-1/sam0301/7927)\n",
    "- [Almanaque Premiere Marvel](http://www.guiadosquadrinhos.com/edicao/almanaque-premiere-marvel-n-1/apm02001/18611)\n",
    "\n",
    "---\n"
   ]
  },
  {
   "cell_type": "markdown",
   "metadata": {},
   "source": [
    "## 1. Develop retrieving:\n",
    "- edition\n",
    "    - id=\"nome_titulo_lb\"\n",
    "- ~cover image? link?~\n",
    "    - id=\"ampliar_capa\"\n",
    "- story (portuguese)\n",
    "    - all: id=\"texto_pag_detalhe\"\n",
    "- main character\n",
    "- original publication\n",
    "- year\n",
    "- original title"
   ]
  },
  {
   "cell_type": "code",
   "execution_count": null,
   "metadata": {},
   "outputs": [],
   "source": [
    "urlroot = \"http://www.guiadosquadrinhos.com/\"\n",
    "# urledition = \"edicao/herois-da-tv-2-serie-n-1/htv0302/6274\"\n",
    "urledition = \"edicao/superaventuras-marvel-n-1/sam0301/7927\""
   ]
  },
  {
   "cell_type": "code",
   "execution_count": null,
   "metadata": {},
   "outputs": [],
   "source": [
    "urlroot + urledition"
   ]
  },
  {
   "cell_type": "markdown",
   "metadata": {},
   "source": [
    "### 1.1 dev scrape main #1 page"
   ]
  },
  {
   "cell_type": "code",
   "execution_count": null,
   "metadata": {},
   "outputs": [],
   "source": [
    "# dev scraping\n",
    "import requests\n",
    "from bs4 import BeautifulSoup\n",
    "\n",
    "URL = urlroot + urledition\n",
    "page = requests.get(URL)\n",
    "\n",
    "thesoup = BeautifulSoup(page.content, \"html.parser\")"
   ]
  },
  {
   "cell_type": "markdown",
   "metadata": {},
   "source": [
    "#### 1.1.1 Edition"
   ]
  },
  {
   "cell_type": "code",
   "execution_count": null,
   "metadata": {},
   "outputs": [],
   "source": [
    "# Edition\n",
    "def edition(asoup):\n",
    "    ed = asoup.find(id=\"nome_titulo_lb\")\n",
    "    edl = ed.contents\n",
    "    edl = [f\"{i}\".strip() for i in edl]\n",
    "    edl = [i.split(\">\")[1] if \">\" in i else i for i in edl]\n",
    "    edl = [i.split(\"<\")[0] if \"<\" in i else i for i in edl]\n",
    "    edl = [i.replace(\"n°\", \"\").strip() for i in edl if i != '']\n",
    "    return edl"
   ]
  },
  {
   "cell_type": "code",
   "execution_count": null,
   "metadata": {},
   "outputs": [],
   "source": [
    "ed = edition(thesoup)\n",
    "ed"
   ]
  },
  {
   "cell_type": "markdown",
   "metadata": {},
   "source": [
    "#### 1.1.2 Edition Contents"
   ]
  },
  {
   "cell_type": "code",
   "execution_count": null,
   "metadata": {},
   "outputs": [],
   "source": [
    "def contents(asoup):\n",
    "    results = asoup.find(id=\"texto_pag_detalhe\")\n",
    "    results = results.text\n",
    "    return results"
   ]
  },
  {
   "cell_type": "code",
   "execution_count": null,
   "metadata": {},
   "outputs": [],
   "source": [
    "editioncontents = contents(thesoup)\n",
    "print(editioncontents)"
   ]
  },
  {
   "cell_type": "markdown",
   "metadata": {},
   "source": [
    "#### 1.1.3 Stories"
   ]
  },
  {
   "cell_type": "code",
   "execution_count": null,
   "metadata": {},
   "outputs": [],
   "source": [
    "# All stories (individual)\n",
    "def stories(asoup):\n",
    "    storiesdict = {}\n",
    "    # page section\n",
    "    results = asoup.find(id=\"texto_pag_detalhe\")\n",
    "    # individual stories\n",
    "    stories = results.find_all(\"div\", class_=\"historia\")\n",
    "#     storieslist = [i.text for i in stories]\n",
    "    for i in range(len(stories)):\n",
    "        storiesdict[i] = stories[i].text\n",
    "    return storiesdict"
   ]
  },
  {
   "cell_type": "code",
   "execution_count": null,
   "metadata": {},
   "outputs": [],
   "source": [
    "stories = stories(thesoup)\n",
    "stories"
   ]
  },
  {
   "cell_type": "markdown",
   "metadata": {},
   "source": [
    "#### 1.1.4 Story Details"
   ]
  },
  {
   "cell_type": "code",
   "execution_count": null,
   "metadata": {},
   "outputs": [],
   "source": [
    "def storydetails(contents, stories, storynumber):\n",
    "    # return details only if story exists\n",
    "    if (storynumber == 0 or storynumber > len(stories)):\n",
    "        storydetails = None\n",
    "    # for any story before the last\n",
    "    elif storynumber < len(stories):\n",
    "        storydetails = contents.split(stories[storynumber-1])[1].split(stories[storynumber])[0]\n",
    "    # for the last story\n",
    "    elif storynumber == len(stories):\n",
    "        storydetails = contents.split(stories[storynumber-1])[1]\n",
    "    return storydetails"
   ]
  },
  {
   "cell_type": "code",
   "execution_count": null,
   "metadata": {},
   "outputs": [],
   "source": [
    "thestorydetail = storydetails(editioncontents, stories, 4)\n",
    "print(thestorydetail)"
   ]
  },
  {
   "cell_type": "markdown",
   "metadata": {},
   "source": [
    "#### 1.1.5 Main Character"
   ]
  },
  {
   "cell_type": "code",
   "execution_count": null,
   "metadata": {},
   "outputs": [],
   "source": [
    "def maincharacter(astorydetail):\n",
    "    character = astorydetail.split(\",\")[0].split(\"Personagens:\")[1].strip()\n",
    "    return character"
   ]
  },
  {
   "cell_type": "code",
   "execution_count": null,
   "metadata": {},
   "outputs": [],
   "source": [
    "thecharacter = maincharacter(thestorydetail)\n",
    "thecharacter"
   ]
  },
  {
   "cell_type": "markdown",
   "metadata": {},
   "source": [
    "#### 1.1.6 Original Title"
   ]
  },
  {
   "cell_type": "code",
   "execution_count": null,
   "metadata": {},
   "outputs": [],
   "source": [
    "def originaltitle(astorydetail):\n",
    "    title = astorydetail.split(\"Publicada originalmente em\")[1].split(\"(\")[0].strip()\n",
    "    return title"
   ]
  },
  {
   "cell_type": "code",
   "execution_count": null,
   "metadata": {},
   "outputs": [],
   "source": [
    "theoriginal = originaltitle(thestorydetail)\n",
    "theoriginal"
   ]
  },
  {
   "cell_type": "markdown",
   "metadata": {},
   "source": [
    "#### 1.1.7 Original Number"
   ]
  },
  {
   "cell_type": "code",
   "execution_count": null,
   "metadata": {},
   "outputs": [],
   "source": [
    "def originalnumber(astorydetail):\n",
    "    issue = astorydetail.split(\"Publicada originalmente em\")[1].split(\")\")[1].replace(\"n°\\xa0\", \"\").split(\"/\")[0].strip()\n",
    "    return issue"
   ]
  },
  {
   "cell_type": "code",
   "execution_count": null,
   "metadata": {},
   "outputs": [],
   "source": [
    "thenumber = originalnumber(thestorydetail)\n",
    "thenumber"
   ]
  },
  {
   "cell_type": "markdown",
   "metadata": {},
   "source": [
    "#### 1.1.8 Original Year"
   ]
  },
  {
   "cell_type": "code",
   "execution_count": null,
   "metadata": {},
   "outputs": [],
   "source": [
    "def originalyear(astorydetail):\n",
    "    year = astorydetail.split(\"Publicada originalmente em\")[1].split(\")\")[1].replace(\"n°\\xa0\", \"\").split(\"/\")[1].split()[0].strip()\n",
    "    return year"
   ]
  },
  {
   "cell_type": "code",
   "execution_count": null,
   "metadata": {},
   "outputs": [],
   "source": [
    "theyear = originalyear(thestorydetail)\n",
    "theyear"
   ]
  },
  {
   "cell_type": "code",
   "execution_count": null,
   "metadata": {},
   "outputs": [],
   "source": []
  },
  {
   "cell_type": "code",
   "execution_count": null,
   "metadata": {},
   "outputs": [],
   "source": []
  },
  {
   "cell_type": "markdown",
   "metadata": {},
   "source": [
    "## 2 retrieve list of links for all editions"
   ]
  },
  {
   "cell_type": "code",
   "execution_count": null,
   "metadata": {},
   "outputs": [],
   "source": [
    "def navigator(asoup):\n",
    "    outlist = []\n",
    "    nav = asoup.find(id=\"d0\")\n",
    "    for link in nav.find_all(\"a\"):\n",
    "        outlist.append(f'{link[\"href\"].replace(\"../\", \"\")}')\n",
    "    return outlist"
   ]
  },
  {
   "cell_type": "code",
   "execution_count": null,
   "metadata": {},
   "outputs": [],
   "source": [
    "alleditions = navigator(thesoup)"
   ]
  },
  {
   "cell_type": "code",
   "execution_count": null,
   "metadata": {},
   "outputs": [],
   "source": [
    "alleditions"
   ]
  },
  {
   "cell_type": "markdown",
   "metadata": {},
   "source": [
    "## 3. Save CSV and print log"
   ]
  },
  {
   "cell_type": "code",
   "execution_count": null,
   "metadata": {},
   "outputs": [],
   "source": []
  },
  {
   "cell_type": "code",
   "execution_count": null,
   "metadata": {},
   "outputs": [],
   "source": [
    "dict1 = {1:(\"a\", \"b\"), 2:(\"c\", \"d\")}"
   ]
  },
  {
   "cell_type": "code",
   "execution_count": null,
   "metadata": {},
   "outputs": [],
   "source": [
    "dict1[2][0]"
   ]
  },
  {
   "cell_type": "code",
   "execution_count": null,
   "metadata": {},
   "outputs": [],
   "source": [
    "list1 = [10, 9, 8]\n",
    "list1.insert(0, 1)\n",
    "list1"
   ]
  },
  {
   "cell_type": "code",
   "execution_count": null,
   "metadata": {},
   "outputs": [],
   "source": []
  },
  {
   "cell_type": "markdown",
   "metadata": {},
   "source": [
    "## 4. Test"
   ]
  },
  {
   "cell_type": "code",
   "execution_count": 1,
   "metadata": {},
   "outputs": [],
   "source": [
    "from odinson import *"
   ]
  },
  {
   "cell_type": "code",
   "execution_count": 2,
   "metadata": {},
   "outputs": [
    {
     "name": "stdout",
     "output_type": "stream",
     "text": [
      " Obtained Edition URL\n",
      " Retrieving page contents\n",
      " Retrieving all Editions URL list\n",
      " -------------------------------------------\n",
      "  Heróis da TV #1\n",
      " -------------------------------------------\n"
     ]
    }
   ],
   "source": [
    "od = Odinson(\"http://www.guiadosquadrinhos.com/edicao/herois-da-tv-2-serie-n-1/htv0302/6274\")"
   ]
  },
  {
   "cell_type": "code",
   "execution_count": 3,
   "metadata": {},
   "outputs": [
    {
     "data": {
      "text/plain": [
       "'http://www.guiadosquadrinhos.com/edicao/herois-da-tv-2-serie-n-1/htv0302/6274'"
      ]
     },
     "execution_count": 3,
     "metadata": {},
     "output_type": "execute_result"
    }
   ],
   "source": [
    "od.initialurl"
   ]
  },
  {
   "cell_type": "code",
   "execution_count": 4,
   "metadata": {},
   "outputs": [
    {
     "data": {
      "text/plain": [
       "'edicao/herois-da-tv-2-serie-n-1/htv0302/6274'"
      ]
     },
     "execution_count": 4,
     "metadata": {},
     "output_type": "execute_result"
    }
   ],
   "source": [
    "od.editionurl"
   ]
  },
  {
   "cell_type": "code",
   "execution_count": 5,
   "metadata": {},
   "outputs": [
    {
     "data": {
      "text/plain": [
       "['Heróis da TV', '1']"
      ]
     },
     "execution_count": 5,
     "metadata": {},
     "output_type": "execute_result"
    }
   ],
   "source": [
    "od.editionnumber"
   ]
  },
  {
   "cell_type": "code",
   "execution_count": 6,
   "metadata": {},
   "outputs": [
    {
     "data": {
      "text/plain": [
       "'\\nCrédito da capa e editor\\n\\nDesenho:  John Buscema,  Keith Pollard Arte-Final:  Pablo Marcos Editor:  Helcio de Carvalho,  Cláudio Marra\\n\\nO Devorador de Planetas\\nPersonagens:  Thor,  Galactus,  Tana Nile,  Odin,  Sif,  Registrador 211,  Ego, O Planeta Vivo\\nRoteiro:  Stan Lee Desenho:  Jack Kirby Arte-Final:  Vince Colletta Cores:  Rita de Carvalho Letrista:  Natan Soares Editor original:  Stan Lee\\nPublicada originalmente em   Thor (1966) n°\\xa0160/1969 - Marvel Comics\\r\\n             \\r\\nTítulo original americano: And Now... Galactus!\". Tana Nile pede ajuda ao deus do trovão para enfrentar o Devorador de Planetas, que ameaça inúmeros mundos.\\r\\n\\r\\n\\r\\n               Deve um deus prevalecer?\\nPersonagens:  Thor,  Galactus,  Ego, O Planeta Vivo,  Registrador 211\\nRoteiro:  Stan Lee Desenho:  Jack Kirby Art'"
      ]
     },
     "execution_count": 6,
     "metadata": {},
     "output_type": "execute_result"
    }
   ],
   "source": [
    "od.editioncontents[:800]"
   ]
  },
  {
   "cell_type": "code",
   "execution_count": 3,
   "metadata": {},
   "outputs": [
    {
     "data": {
      "text/plain": [
       "{0: 'O Devorador de Planetas',\n",
       " 1: 'Deve um deus prevalecer?',\n",
       " 2: 'Duelo de ferro',\n",
       " 3: 'Amargo adeus',\n",
       " 4: 'Meia-Noite traz a morte!',\n",
       " 5: 'A chama e a fúria'}"
      ]
     },
     "execution_count": 3,
     "metadata": {},
     "output_type": "execute_result"
    }
   ],
   "source": [
    "od.storytitles"
   ]
  },
  {
   "cell_type": "code",
   "execution_count": 8,
   "metadata": {},
   "outputs": [
    {
     "data": {
      "text/plain": [
       "{0: '\\nPersonagens:  Thor,  Galactus,  Tana Nile,  Odin,  Sif,  Registrador 211,  Ego, O Planeta Vivo\\nRoteiro:  Stan Lee Desenho:  Jack Kirby Arte-Final:  Vince Colletta Cores:  Rita de Carvalho Letrista:  Natan Soares Editor original:  Stan Lee\\nPublicada originalmente em   Thor (1966) n°\\xa0160/1969 - Marvel Comics\\r\\n             \\r\\nTítulo original americano: And Now... Galactus!\". Tana Nile pede ajuda ao deus do trovão para enfrentar o Devorador de Planetas, que ameaça inúmeros mundos.\\r\\n\\r\\n\\r\\n               ',\n",
       " 1: '\\nPersonagens:  Thor,  Galactus,  Ego, O Planeta Vivo,  Registrador 211\\nRoteiro:  Stan Lee Desenho:  Jack Kirby Arte-Final:  Vince Colletta Editor original:  Stan Lee\\nPublicada originalmente em   Thor (1966) n°\\xa0161/1969 - Marvel Comics\\r\\n             \\r\\nTítulo original americano: \"Shall a God Prevail?\". Confronto final entre Thor e as forças de Galactus.\\r\\n\\r\\n\\r\\n               ',\n",
       " 2: '\\nPersonagens:  Punho de Ferro,  Homem de Ferro,  Rafael Scarfe,  Misty Knight,  Colleen Wing,  Angar, O Gritador,  Serpente de Aço,  Gamal Hassan,  Khumbala Bey,  Donald Cauley\\nRoteiro:  Chris Claremont Desenho:  John Byrne Arte-Final:  Al McWilliams Cores:  Rita de Carvalho Letrista:  Natan Soares Editor original:  Marv Wolfman\\nPublicada originalmente em   Iron Fist (1975) n°\\xa01/1975 - Marvel Comics\\r\\n             \\r\\nTítulo original americano: \"A Duel of Iron!\". Nosso herói invade a propriedade de Tony Stark, mas é interceptado pelo Homem de Ferro, que o toma por criminoso.\\r\\n\\r\\n\\r\\n               ',\n",
       " 3: '\\nPersonagens:  Homem de Ferro,  Mecanóide\\nRoteiro:  Allyn Brodsky Desenho:  George Tuska Arte-Final:  Mike Esposito - ‘Joe Gaudioso/Mickey Demeo’ Cores:  Rita de Carvalho Letrista:  Natan Soares Editor original:  Stan Lee\\nPublicada originalmente em   Iron Man (1968) n°\\xa032/1970 - Marvel Comics\\r\\n             \\r\\nTítulo original americano: \"Beware the Mechanoid\". O Ferroso é capturado por um andróide alienígena que se disfarça de humano para espionar a Terra. Mas as coisas se complicam para o raptor quando ele é sequestrado com uma mulher por presidiários em fuga. Agora, terá que enfrentar, além de nosso herói, os perigosos bandidos.\\r\\n\\r\\n\\r\\n               ',\n",
       " 4: '\\nPersonagens:  Shang-Chi - Mestre do Kung Fu,  Meia-Noite,  Fu Manchu,  Si-Fan\\nArgumento:  Jim Starlin,  Steve Englehart - ‘John Harkness’ Roteiro:  Steve Englehart - ‘John Harkness’ Desenho:  Jim Starlin Arte-Final:  Allen \"Al\" Milgrom Cores:  Rita de Carvalho Letrista:  Natan Soares Editor original:  Roy Thomas\\nPublicada originalmente em   Special Marvel Edition (1971) n°\\xa016/1974 - Marvel Comics\\r\\n             \\r\\nTítulo original americano: \"Midnight Brings Dark Death!\". Fu Manchu envia o filho adotivo para matar Shang-Chi. Meia-Noite não sabe que seu pai é um vilão e não poupa esforços para eliminar seu irmão adotivo.\\r\\n\\r\\n\\r\\n               ',\n",
       " 5: '\\nPersonagens:  Surfista Prateado,  Tocha Humana II,  Quarteto Fantástico,  Senhor Fantástico,  Mulher Invisível,  Coisa,  Homem-Aranha,  Estranho,  Galactus,  Supersenhor,  Mefisto\\nRoteiro:  Stan Lee Desenho:  John Buscema Arte-Final:  Dan Adkins Cores:  Rita de Carvalho Letrista:  Natan Soares Editor original:  Stan Lee\\nPublicada originalmente em   Silver Surfer, The (1968) n°\\xa015/1970 - Marvel Comics\\r\\n             \\r\\nTítulo original americano: \"The Flame and the Fury!\". O Surfista vai buscar ajuda no quartel-general do Quarteto Fantástico e, ao chegar, pega trechos de uma conversa e pensa que seus amigos se voltaram contra ele. O Tocha vai atrás do nosso equivocado herói para esclarecer a situação e uma batalha violenta se inicia.\\r\\n\\r\\n\\r\\n               \\r\\n               \\r\\n\\r\\n              '}"
      ]
     },
     "execution_count": 8,
     "metadata": {},
     "output_type": "execute_result"
    }
   ],
   "source": [
    "od.storydetails"
   ]
  },
  {
   "cell_type": "code",
   "execution_count": 4,
   "metadata": {},
   "outputs": [
    {
     "data": {
      "text/plain": [
       "{0: 'Thor',\n",
       " 1: 'Thor',\n",
       " 2: 'Punho de Ferro',\n",
       " 3: 'Homem de Ferro',\n",
       " 4: 'Shang-Chi - Mestre do Kung Fu',\n",
       " 5: 'Surfista Prateado'}"
      ]
     },
     "execution_count": 4,
     "metadata": {},
     "output_type": "execute_result"
    }
   ],
   "source": [
    "od.maincharacter"
   ]
  },
  {
   "cell_type": "code",
   "execution_count": 5,
   "metadata": {},
   "outputs": [
    {
     "data": {
      "text/plain": [
       "{0: 'Thor',\n",
       " 1: 'Thor',\n",
       " 2: 'Iron Fist',\n",
       " 3: 'Iron Man',\n",
       " 4: 'Special Marvel Edition',\n",
       " 5: 'Silver Surfer, The'}"
      ]
     },
     "execution_count": 5,
     "metadata": {},
     "output_type": "execute_result"
    }
   ],
   "source": [
    "od.originaltitle"
   ]
  },
  {
   "cell_type": "code",
   "execution_count": 6,
   "metadata": {},
   "outputs": [
    {
     "data": {
      "text/plain": [
       "{0: '160', 1: '161', 2: '1', 3: '32', 4: '16', 5: '15'}"
      ]
     },
     "execution_count": 6,
     "metadata": {},
     "output_type": "execute_result"
    }
   ],
   "source": [
    "od.originalnumber"
   ]
  },
  {
   "cell_type": "code",
   "execution_count": 7,
   "metadata": {},
   "outputs": [
    {
     "data": {
      "text/plain": [
       "43"
      ]
     },
     "execution_count": 7,
     "metadata": {},
     "output_type": "execute_result"
    }
   ],
   "source": [
    "len(\"-------------------------------------------\")"
   ]
  },
  {
   "cell_type": "code",
   "execution_count": 9,
   "metadata": {},
   "outputs": [],
   "source": [
    "import pandas as pd"
   ]
  },
  {
   "cell_type": "code",
   "execution_count": 15,
   "metadata": {},
   "outputs": [],
   "source": [
    "linedf = pd.DataFrame()"
   ]
  },
  {
   "cell_type": "code",
   "execution_count": 19,
   "metadata": {},
   "outputs": [],
   "source": [
    "linedf[\"TITLEBR\"] = od.editionnumber[0] "
   ]
  },
  {
   "cell_type": "code",
   "execution_count": 14,
   "metadata": {},
   "outputs": [
    {
     "data": {
      "text/plain": [
       "'Heróis da TV'"
      ]
     },
     "execution_count": 14,
     "metadata": {},
     "output_type": "execute_result"
    }
   ],
   "source": [
    "od.editionnumber[0] "
   ]
  },
  {
   "cell_type": "code",
   "execution_count": null,
   "metadata": {},
   "outputs": [],
   "source": []
  },
  {
   "cell_type": "code",
   "execution_count": 20,
   "metadata": {},
   "outputs": [
    {
     "data": {
      "text/html": [
       "<div>\n",
       "<style scoped>\n",
       "    .dataframe tbody tr th:only-of-type {\n",
       "        vertical-align: middle;\n",
       "    }\n",
       "\n",
       "    .dataframe tbody tr th {\n",
       "        vertical-align: top;\n",
       "    }\n",
       "\n",
       "    .dataframe thead th {\n",
       "        text-align: right;\n",
       "    }\n",
       "</style>\n",
       "<table border=\"1\" class=\"dataframe\">\n",
       "  <thead>\n",
       "    <tr style=\"text-align: right;\">\n",
       "      <th></th>\n",
       "      <th>TITLEBR</th>\n",
       "    </tr>\n",
       "  </thead>\n",
       "  <tbody>\n",
       "  </tbody>\n",
       "</table>\n",
       "</div>"
      ],
      "text/plain": [
       "Empty DataFrame\n",
       "Columns: [TITLEBR]\n",
       "Index: []"
      ]
     },
     "execution_count": 20,
     "metadata": {},
     "output_type": "execute_result"
    }
   ],
   "source": [
    "linedf"
   ]
  },
  {
   "cell_type": "code",
   "execution_count": 24,
   "metadata": {},
   "outputs": [],
   "source": [
    "li = []\n",
    "for i in od.maincharacter.keys():\n",
    "    li.append([od.editionnumber[0], od.editionnumber[1], \n",
    "               i+1, od.storytitles[i], od.maincharacter[i], \n",
    "               od.originaltitle[i], od.originalnumber[i]])\n",
    "editiondf = pd.DataFrame(li, \n",
    "                         columns=[\"BRTITLE\", \"BRNUM\", \"STORYNUM\", \n",
    "                                  \"BRSTORY\", \"MAINCHAR\", \n",
    "                                  \"ORIGTITLE\", \"ORIGNUM\"])"
   ]
  },
  {
   "cell_type": "code",
   "execution_count": 25,
   "metadata": {},
   "outputs": [
    {
     "data": {
      "text/html": [
       "<div>\n",
       "<style scoped>\n",
       "    .dataframe tbody tr th:only-of-type {\n",
       "        vertical-align: middle;\n",
       "    }\n",
       "\n",
       "    .dataframe tbody tr th {\n",
       "        vertical-align: top;\n",
       "    }\n",
       "\n",
       "    .dataframe thead th {\n",
       "        text-align: right;\n",
       "    }\n",
       "</style>\n",
       "<table border=\"1\" class=\"dataframe\">\n",
       "  <thead>\n",
       "    <tr style=\"text-align: right;\">\n",
       "      <th></th>\n",
       "      <th>BRTITLE</th>\n",
       "      <th>BRNUM</th>\n",
       "      <th>STORYNUM</th>\n",
       "      <th>BRSTORY</th>\n",
       "      <th>MAINCHAR</th>\n",
       "      <th>ORIGTITLE</th>\n",
       "      <th>ORIGNUM</th>\n",
       "    </tr>\n",
       "  </thead>\n",
       "  <tbody>\n",
       "    <tr>\n",
       "      <th>0</th>\n",
       "      <td>Heróis da TV</td>\n",
       "      <td>1</td>\n",
       "      <td>1</td>\n",
       "      <td>O Devorador de Planetas</td>\n",
       "      <td>Thor</td>\n",
       "      <td>Thor</td>\n",
       "      <td>160</td>\n",
       "    </tr>\n",
       "    <tr>\n",
       "      <th>1</th>\n",
       "      <td>Heróis da TV</td>\n",
       "      <td>1</td>\n",
       "      <td>2</td>\n",
       "      <td>Deve um deus prevalecer?</td>\n",
       "      <td>Thor</td>\n",
       "      <td>Thor</td>\n",
       "      <td>161</td>\n",
       "    </tr>\n",
       "    <tr>\n",
       "      <th>2</th>\n",
       "      <td>Heróis da TV</td>\n",
       "      <td>1</td>\n",
       "      <td>3</td>\n",
       "      <td>Duelo de ferro</td>\n",
       "      <td>Punho de Ferro</td>\n",
       "      <td>Iron Fist</td>\n",
       "      <td>1</td>\n",
       "    </tr>\n",
       "    <tr>\n",
       "      <th>3</th>\n",
       "      <td>Heróis da TV</td>\n",
       "      <td>1</td>\n",
       "      <td>4</td>\n",
       "      <td>Amargo adeus</td>\n",
       "      <td>Homem de Ferro</td>\n",
       "      <td>Iron Man</td>\n",
       "      <td>32</td>\n",
       "    </tr>\n",
       "    <tr>\n",
       "      <th>4</th>\n",
       "      <td>Heróis da TV</td>\n",
       "      <td>1</td>\n",
       "      <td>5</td>\n",
       "      <td>Meia-Noite traz a morte!</td>\n",
       "      <td>Shang-Chi - Mestre do Kung Fu</td>\n",
       "      <td>Special Marvel Edition</td>\n",
       "      <td>16</td>\n",
       "    </tr>\n",
       "    <tr>\n",
       "      <th>5</th>\n",
       "      <td>Heróis da TV</td>\n",
       "      <td>1</td>\n",
       "      <td>6</td>\n",
       "      <td>A chama e a fúria</td>\n",
       "      <td>Surfista Prateado</td>\n",
       "      <td>Silver Surfer, The</td>\n",
       "      <td>15</td>\n",
       "    </tr>\n",
       "  </tbody>\n",
       "</table>\n",
       "</div>"
      ],
      "text/plain": [
       "        BRTITLE BRNUM  STORYNUM                   BRSTORY  \\\n",
       "0  Heróis da TV     1         1   O Devorador de Planetas   \n",
       "1  Heróis da TV     1         2  Deve um deus prevalecer?   \n",
       "2  Heróis da TV     1         3            Duelo de ferro   \n",
       "3  Heróis da TV     1         4              Amargo adeus   \n",
       "4  Heróis da TV     1         5  Meia-Noite traz a morte!   \n",
       "5  Heróis da TV     1         6         A chama e a fúria   \n",
       "\n",
       "                        MAINCHAR               ORIGTITLE ORIGNUM  \n",
       "0                           Thor                    Thor     160  \n",
       "1                           Thor                    Thor     161  \n",
       "2                 Punho de Ferro               Iron Fist       1  \n",
       "3                 Homem de Ferro                Iron Man      32  \n",
       "4  Shang-Chi - Mestre do Kung Fu  Special Marvel Edition      16  \n",
       "5              Surfista Prateado      Silver Surfer, The      15  "
      ]
     },
     "execution_count": 25,
     "metadata": {},
     "output_type": "execute_result"
    }
   ],
   "source": [
    "editiondf"
   ]
  },
  {
   "cell_type": "code",
   "execution_count": null,
   "metadata": {},
   "outputs": [],
   "source": []
  }
 ],
 "metadata": {
  "kernelspec": {
   "display_name": "Python 3",
   "language": "python",
   "name": "python3"
  },
  "language_info": {
   "codemirror_mode": {
    "name": "ipython",
    "version": 3
   },
   "file_extension": ".py",
   "mimetype": "text/x-python",
   "name": "python",
   "nbconvert_exporter": "python",
   "pygments_lexer": "ipython3",
   "version": "3.7.2"
  }
 },
 "nbformat": 4,
 "nbformat_minor": 4
}
