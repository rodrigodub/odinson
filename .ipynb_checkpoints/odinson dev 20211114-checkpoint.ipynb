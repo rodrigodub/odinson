{
 "cells": [
  {
   "cell_type": "markdown",
   "metadata": {},
   "source": [
    "# odinson\n",
    "Retrieve original Marvel Comics editions for stories published in old brazilian comics\n",
    "\n",
    "##### 2021.11.14\n",
    "\n",
    "---\n",
    "\n",
    "## Souces\n",
    "\n",
    "[Guia dos Quadrinhos](http://www.guiadosquadrinhos.com/)\n",
    "- [Heróis da TV](http://www.guiadosquadrinhos.com/edicao/herois-da-tv-2-serie-n-1/htv0302/6274)\n",
    "- [Superaventuras Marvel](http://www.guiadosquadrinhos.com/edicao/superaventuras-marvel-n-1/sam0301/7927)\n",
    "- [Almanaque Premiere Marvel](http://www.guiadosquadrinhos.com/edicao/almanaque-premiere-marvel-n-1/apm02001/18611)\n",
    "\n",
    "---\n"
   ]
  },
  {
   "cell_type": "markdown",
   "metadata": {},
   "source": [
    "## 1. Develop retrieving:\n",
    "- edition\n",
    "    - id=\"nome_titulo_lb\"\n",
    "- ~cover image? link?~\n",
    "    - id=\"ampliar_capa\"\n",
    "- story (portuguese)\n",
    "    - all: id=\"texto_pag_detalhe\"\n",
    "- main character\n",
    "- original publication\n",
    "- year\n",
    "- original title"
   ]
  },
  {
   "cell_type": "code",
   "execution_count": 2,
   "metadata": {},
   "outputs": [],
   "source": [
    "htvurl = \"http://www.guiadosquadrinhos.com/edicao/herois-da-tv-2-serie-n-1/htv0302/6274\""
   ]
  },
  {
   "cell_type": "markdown",
   "metadata": {},
   "source": [
    "### 1.1 dev scrape main #1 page"
   ]
  },
  {
   "cell_type": "code",
   "execution_count": 3,
   "metadata": {},
   "outputs": [],
   "source": [
    "# dev scraping\n",
    "import requests\n",
    "from bs4 import BeautifulSoup\n",
    "\n",
    "URL = htvurl\n",
    "page = requests.get(URL)\n",
    "\n",
    "soup = BeautifulSoup(page.content, \"html.parser\")"
   ]
  },
  {
   "cell_type": "markdown",
   "metadata": {},
   "source": [
    "#### 1.1.1 Edition"
   ]
  },
  {
   "cell_type": "code",
   "execution_count": 90,
   "metadata": {},
   "outputs": [],
   "source": [
    "# Edition\n",
    "def edition(thesoup):\n",
    "    ed = thesoup.find(id=\"nome_titulo_lb\")\n",
    "    edl = ed.contents\n",
    "    edl = [f\"{i}\".strip() for i in edl]\n",
    "    edl = [i.split(\">\")[1] if \">\" in i else i for i in edl]\n",
    "    edl = [i.split(\"<\")[0] if \"<\" in i else i for i in edl]\n",
    "    edl = [i.replace(\"n°\", \"\").strip() for i in edl if i != '']\n",
    "    return edl"
   ]
  },
  {
   "cell_type": "code",
   "execution_count": 91,
   "metadata": {},
   "outputs": [
    {
     "data": {
      "text/plain": [
       "['Heróis da TV', '2ª Série -', '1']"
      ]
     },
     "execution_count": 91,
     "metadata": {},
     "output_type": "execute_result"
    }
   ],
   "source": [
    "ed = edition(soup)\n",
    "ed"
   ]
  },
  {
   "cell_type": "markdown",
   "metadata": {},
   "source": [
    "#### 1.1.2 Edition Contents"
   ]
  },
  {
   "cell_type": "code",
   "execution_count": 105,
   "metadata": {},
   "outputs": [],
   "source": [
    "def contents(thesoup):\n",
    "    results = thesoup.find(id=\"texto_pag_detalhe\")\n",
    "    results = results.text\n",
    "    return results"
   ]
  },
  {
   "cell_type": "code",
   "execution_count": 110,
   "metadata": {},
   "outputs": [
    {
     "name": "stdout",
     "output_type": "stream",
     "text": [
      "\n",
      "Crédito da capa e editor\n",
      "\n",
      "Desenho:  John Buscema,  Keith Pollard Arte-Final:  Pablo Marcos Editor:  Helcio de Carvalho,  Cláudio Marra\n",
      "\n",
      "O Devorador de Planetas\n",
      "Personagens:  Thor,  Galactus,  Tana Nile,  Odin,  Sif,  Registrador 211,  Ego, O Planeta Vivo\n",
      "Roteiro:  Stan Lee Desenho:  Jack Kirby Arte-Final:  Vince Colletta Cores:  Rita de Carvalho Letrista:  Natan Soares Editor original:  Stan Lee\n",
      "Publicada originalmente em   Thor (1966) n° 160/1969 - Marvel Comics\n",
      "             \n",
      "Título original americano: And Now... Galactus!\". Tana Nile pede ajuda ao deus do trovão para enfrentar o Devorador de Planetas, que ameaça inúmeros mundos.\n",
      "\n",
      "\n",
      "               Deve um deus prevalecer?\n",
      "Personagens:  Thor,  Galactus,  Ego, O Planeta Vivo,  Registrador 211\n",
      "Roteiro:  Stan Lee Desenho:  Jack Kirby Arte-Final:  Vince Colletta Editor original:  Stan Lee\n",
      "Publicada originalmente em   Thor (1966) n° 161/1969 - Marvel Comics\n",
      "             \n",
      "Título original americano: \"Shall a God Prevail?\". Confronto final entre Thor e as forças de Galactus.\n",
      "\n",
      "\n",
      "               Duelo de ferro\n",
      "Personagens:  Punho de Ferro,  Homem de Ferro,  Rafael Scarfe,  Misty Knight,  Colleen Wing,  Angar, O Gritador,  Serpente de Aço,  Gamal Hassan,  Khumbala Bey,  Donald Cauley\n",
      "Roteiro:  Chris Claremont Desenho:  John Byrne Arte-Final:  Al McWilliams Cores:  Rita de Carvalho Letrista:  Natan Soares Editor original:  Marv Wolfman\n",
      "Publicada originalmente em   Iron Fist (1975) n° 1/1975 - Marvel Comics\n",
      "             \n",
      "Título original americano: \"A Duel of Iron!\". Nosso herói invade a propriedade de Tony Stark, mas é interceptado pelo Homem de Ferro, que o toma por criminoso.\n",
      "\n",
      "\n",
      "               Amargo adeus\n",
      "Personagens:  Homem de Ferro,  Mecanóide\n",
      "Roteiro:  Allyn Brodsky Desenho:  George Tuska Arte-Final:  Mike Esposito - ‘Joe Gaudioso/Mickey Demeo’ Cores:  Rita de Carvalho Letrista:  Natan Soares Editor original:  Stan Lee\n",
      "Publicada originalmente em   Iron Man (1968) n° 32/1970 - Marvel Comics\n",
      "             \n",
      "Título original americano: \"Beware the Mechanoid\". O Ferroso é capturado por um andróide alienígena que se disfarça de humano para espionar a Terra. Mas as coisas se complicam para o raptor quando ele é sequestrado com uma mulher por presidiários em fuga. Agora, terá que enfrentar, além de nosso herói, os perigosos bandidos.\n",
      "\n",
      "\n",
      "               Meia-Noite traz a morte!\n",
      "Personagens:  Shang-Chi - Mestre do Kung Fu,  Meia-Noite,  Fu Manchu,  Si-Fan\n",
      "Argumento:  Jim Starlin,  Steve Englehart - ‘John Harkness’ Roteiro:  Steve Englehart - ‘John Harkness’ Desenho:  Jim Starlin Arte-Final:  Allen \"Al\" Milgrom Cores:  Rita de Carvalho Letrista:  Natan Soares Editor original:  Roy Thomas\n",
      "Publicada originalmente em   Special Marvel Edition (1971) n° 16/1974 - Marvel Comics\n",
      "             \n",
      "Título original americano: \"Midnight Brings Dark Death!\". Fu Manchu envia o filho adotivo para matar Shang-Chi. Meia-Noite não sabe que seu pai é um vilão e não poupa esforços para eliminar seu irmão adotivo.\n",
      "\n",
      "\n",
      "               A chama e a fúria\n",
      "Personagens:  Surfista Prateado,  Tocha Humana II,  Quarteto Fantástico,  Senhor Fantástico,  Mulher Invisível,  Coisa,  Homem-Aranha,  Estranho,  Galactus,  Supersenhor,  Mefisto\n",
      "Roteiro:  Stan Lee Desenho:  John Buscema Arte-Final:  Dan Adkins Cores:  Rita de Carvalho Letrista:  Natan Soares Editor original:  Stan Lee\n",
      "Publicada originalmente em   Silver Surfer, The (1968) n° 15/1970 - Marvel Comics\n",
      "             \n",
      "Título original americano: \"The Flame and the Fury!\". O Surfista vai buscar ajuda no quartel-general do Quarteto Fantástico e, ao chegar, pega trechos de uma conversa e pensa que seus amigos se voltaram contra ele. O Tocha vai atrás do nosso equivocado herói para esclarecer a situação e uma batalha violenta se inicia.\n",
      "\n",
      "\n",
      "               \n",
      "               \n",
      "\n",
      "              \n"
     ]
    }
   ],
   "source": [
    "editioncontents = contents(soup)\n",
    "print(editioncontents)"
   ]
  },
  {
   "cell_type": "markdown",
   "metadata": {},
   "source": [
    "#### 1.1.3 Stories"
   ]
  },
  {
   "cell_type": "code",
   "execution_count": 108,
   "metadata": {},
   "outputs": [],
   "source": [
    "# All stories (individual)\n",
    "def stories(thesoup):\n",
    "    # page section\n",
    "    results = thesoup.find(id=\"texto_pag_detalhe\")\n",
    "    # individual stories\n",
    "    stories = results.find_all(\"div\", class_=\"historia\")\n",
    "    stories = [i.text for i in stories]\n",
    "    return stories"
   ]
  },
  {
   "cell_type": "code",
   "execution_count": 109,
   "metadata": {},
   "outputs": [
    {
     "data": {
      "text/plain": [
       "['O Devorador de Planetas',\n",
       " 'Deve um deus prevalecer?',\n",
       " 'Duelo de ferro',\n",
       " 'Amargo adeus',\n",
       " 'Meia-Noite traz a morte!',\n",
       " 'A chama e a fúria']"
      ]
     },
     "execution_count": 109,
     "metadata": {},
     "output_type": "execute_result"
    }
   ],
   "source": [
    "stories = stories(soup)\n",
    "stories"
   ]
  },
  {
   "cell_type": "markdown",
   "metadata": {},
   "source": [
    "#### 1.1.4 Story Details"
   ]
  },
  {
   "cell_type": "code",
   "execution_count": 134,
   "metadata": {},
   "outputs": [],
   "source": [
    "def storydetails(contents, stories, storynumber):\n",
    "    # return details only if story exists\n",
    "    if (storynumber == 0 or storynumber > len(stories)):\n",
    "        storydetails = None\n",
    "    # for any story before the last\n",
    "    elif storynumber < len(stories):\n",
    "        storydetails = contents.split(stories[storynumber-1])[1].split(stories[storynumber])[0]\n",
    "    # for the last story\n",
    "    elif storynumber == len(stories):\n",
    "        storydetails = contents.split(stories[storynumber-1])[1]\n",
    "    return storydetails"
   ]
  },
  {
   "cell_type": "code",
   "execution_count": 138,
   "metadata": {},
   "outputs": [
    {
     "name": "stdout",
     "output_type": "stream",
     "text": [
      "\n",
      "Personagens:  Punho de Ferro,  Homem de Ferro,  Rafael Scarfe,  Misty Knight,  Colleen Wing,  Angar, O Gritador,  Serpente de Aço,  Gamal Hassan,  Khumbala Bey,  Donald Cauley\n",
      "Roteiro:  Chris Claremont Desenho:  John Byrne Arte-Final:  Al McWilliams Cores:  Rita de Carvalho Letrista:  Natan Soares Editor original:  Marv Wolfman\n",
      "Publicada originalmente em   Iron Fist (1975) n° 1/1975 - Marvel Comics\n",
      "             \n",
      "Título original americano: \"A Duel of Iron!\". Nosso herói invade a propriedade de Tony Stark, mas é interceptado pelo Homem de Ferro, que o toma por criminoso.\n",
      "\n",
      "\n",
      "               \n"
     ]
    }
   ],
   "source": [
    "storydetail = storydetails(editioncontents, stories, 3)\n",
    "print(storydetail)"
   ]
  },
  {
   "cell_type": "code",
   "execution_count": 124,
   "metadata": {},
   "outputs": [
    {
     "data": {
      "text/plain": [
       "'\\nPersonagens:  Surfista Prateado,  Tocha Humana II,  Quarteto Fantástico,  Senhor Fantástico,  Mulher Invisível,  Coisa,  Homem-Aranha,  Estranho,  Galactus,  Supersenhor,  Mefisto\\nRoteiro:  Stan Lee Desenho:  John Buscema Arte-Final:  Dan Adkins Cores:  Rita de Carvalho Letrista:  Natan Soares Editor original:  Stan Lee\\nPublicada originalmente em   Silver Surfer, The (1968) n°\\xa015/1970 - Marvel Comics\\r\\n             \\r\\nTítulo original americano: \"The Flame and the Fury!\". O Surfista vai buscar ajuda no quartel-general do Quarteto Fantástico e, ao chegar, pega trechos de uma conversa e pensa que seus amigos se voltaram contra ele. O Tocha vai atrás do nosso equivocado herói para esclarecer a situação e uma batalha violenta se inicia.\\r\\n\\r\\n\\r\\n               \\r\\n               \\r\\n\\r\\n              '"
      ]
     },
     "execution_count": 124,
     "metadata": {},
     "output_type": "execute_result"
    }
   ],
   "source": [
    "# editioncontents\n",
    "# stories[6-1]\n",
    "editioncontents.split(stories[6-1])[1]"
   ]
  },
  {
   "cell_type": "code",
   "execution_count": null,
   "metadata": {},
   "outputs": [],
   "source": [
    "# tests\n",
    "# results\n",
    "# stories[0:2]\n",
    "# len(stories)\n",
    "stories[5]"
   ]
  },
  {
   "cell_type": "code",
   "execution_count": 100,
   "metadata": {},
   "outputs": [
    {
     "name": "stdout",
     "output_type": "stream",
     "text": [
      "</div>\n",
      "<br/><strong>Personagens: </strong> <a href=\"../../../personagem/surfista-prateado-(norrin-radd)/104\">Surfista Prateado</a>,  <a href=\"../../../personagem/tocha-humana-ii-(jonathan-johnny-lowell-spencer-storm)/25\">Tocha Humana II</a>,  <a href=\"../../../personagem/quarteto-fantastico/13\">Quarteto Fantástico</a>,  <a href=\"../../../personagem/senhor-fantastico-(reed-richards)/103\">Senhor Fantástico</a>,  <a href=\"../../../personagem/mulher-invisivel-(susan-sue-storm-richards)/55\">Mulher Invisível</a>,  <a href=\"../../../personagem/coisa-(benjamin-ben-jacob-grimm)/19\">Coisa</a>,  <a href=\"../../../personagem/homem-aranha-(peter-benjamin-parker)/9\">Homem-Aranha</a>,  <a href=\"../../../personagem/estranho/329\">Estranho</a>,  <a href=\"../../../personagem/galactus-(galan-)/105\">Galactus</a>,  <a href=\"../../../personagem/supersenhor-(rakkhal-)/10280\">Supersenhor</a>,  <a href=\"../../../personagem/mefisto-/302\">Mefisto</a>\n",
      "<br/><strong>Roteiro: </strong> <a href=\"../../../artista/stan-lee/2\">Stan Lee</a> <br/><strong>Desenho: </strong> <a href=\"../../../artista/john-buscema/9\">John Buscema</a> <br/><strong>Arte-Final: </strong> <a href=\"../../../artista/dan-adkins/89\">Dan Adkins</a> <br/><strong>Cores: </strong> <a href=\"../../../artista/rita-de-carvalho/1001\">Rita de Carvalho</a> <br/><strong>Letrista: </strong> <a href=\"../../../artista/natan-soares/3099\">Natan Soares</a> <br/><strong>Editor original: </strong> <a href=\"../../../artista/stan-lee/2\">Stan Lee</a>\n",
      "<br/>Publicada originalmente em   <a href=\"../../../edicao-estrangeira/silver-surfer-the-(1968)-n-15/945/9952\">Silver Surfer, The (1968) n° 15</a>/1970 - Marvel Comics\n",
      "             \n",
      "<br/>Título original americano: \"The Flame and the Fury!\". O Surfista vai buscar ajuda no quartel-general do Quarteto Fantástico e, ao chegar, pega trechos de uma conversa e pensa que seus amigos se voltaram contra ele. O Tocha vai atrás do nosso equivocado herói para esclarecer a situação e uma batalha violenta se inicia.\n",
      "\n",
      "\n",
      "               \n",
      "               \n",
      "\n",
      "              </div>\n"
     ]
    }
   ],
   "source": [
    "# Take the contents for 1 story\n",
    "storyno = 6\n",
    "\n",
    "if (storyno == 0 or storyno > len(stories)):\n",
    "    story = None\n",
    "# if storyno + 1 < len(stories):\n",
    "elif storyno < len(stories):\n",
    "    story = f\"{results}\".split(f\"{stories[storyno-1]}\")[1].split(f\"{stories[storyno]}\")[0]\n",
    "# elif storyno + 1 == len(stories):\n",
    "elif storyno == len(stories):\n",
    "    story = f\"{results}\".split(f\"{stories[storyno-1]}\")[1]\n",
    "elif (storyno == 0 or storyno > len(stories)):\n",
    "    story = None\n",
    "print(story)"
   ]
  },
  {
   "cell_type": "code",
   "execution_count": null,
   "metadata": {},
   "outputs": [],
   "source": []
  },
  {
   "cell_type": "code",
   "execution_count": 104,
   "metadata": {},
   "outputs": [
    {
     "name": "stdout",
     "output_type": "stream",
     "text": [
      "\n",
      "Crédito da capa e editor\n",
      "\n",
      "Desenho:  John Buscema,  Keith Pollard Arte-Final:  Pablo Marcos Editor:  Helcio de Carvalho,  Cláudio Marra\n",
      "\n",
      "O Devorador de Planetas\n",
      "Personagens:  Thor,  Galactus,  Tana Nile,  Odin,  Sif,  Registrador 211,  Ego, O Planeta Vivo\n",
      "Roteiro:  Stan Lee Desenho:  Jack Kirby Arte-Final:  Vince Colletta Cores:  Rita de Carvalho Letrista:  Natan Soares Editor original:  Stan Lee\n",
      "Publicada originalmente em   Thor (1966) n° 160/1969 - Marvel Comics\n",
      "             \n",
      "Título original americano: And Now... Galactus!\". Tana Nile pede ajuda ao deus do trovão para enfrentar o Devorador de Planetas, que ameaça inúmeros mundos.\n",
      "\n",
      "\n",
      "               Deve um deus prevalecer?\n",
      "Personagens:  Thor,  Galactus,  Ego, O Planeta Vivo,  Registrador 211\n",
      "Roteiro:  Stan Lee Desenho:  Jack Kirby Arte-Final:  Vince Colletta Editor original:  Stan Lee\n",
      "Publicada originalmente em   Thor (1966) n° 161/1969 - Marvel Comics\n",
      "             \n",
      "Título original americano: \"Shall a God Prevail?\". Confronto final entre Thor e as forças de Galactus.\n",
      "\n",
      "\n",
      "               Duelo de ferro\n",
      "Personagens:  Punho de Ferro,  Homem de Ferro,  Rafael Scarfe,  Misty Knight,  Colleen Wing,  Angar, O Gritador,  Serpente de Aço,  Gamal Hassan,  Khumbala Bey,  Donald Cauley\n",
      "Roteiro:  Chris Claremont Desenho:  John Byrne Arte-Final:  Al McWilliams Cores:  Rita de Carvalho Letrista:  Natan Soares Editor original:  Marv Wolfman\n",
      "Publicada originalmente em   Iron Fist (1975) n° 1/1975 - Marvel Comics\n",
      "             \n",
      "Título original americano: \"A Duel of Iron!\". Nosso herói invade a propriedade de Tony Stark, mas é interceptado pelo Homem de Ferro, que o toma por criminoso.\n",
      "\n",
      "\n",
      "               Amargo adeus\n",
      "Personagens:  Homem de Ferro,  Mecanóide\n",
      "Roteiro:  Allyn Brodsky Desenho:  George Tuska Arte-Final:  Mike Esposito - ‘Joe Gaudioso/Mickey Demeo’ Cores:  Rita de Carvalho Letrista:  Natan Soares Editor original:  Stan Lee\n",
      "Publicada originalmente em   Iron Man (1968) n° 32/1970 - Marvel Comics\n",
      "             \n",
      "Título original americano: \"Beware the Mechanoid\". O Ferroso é capturado por um andróide alienígena que se disfarça de humano para espionar a Terra. Mas as coisas se complicam para o raptor quando ele é sequestrado com uma mulher por presidiários em fuga. Agora, terá que enfrentar, além de nosso herói, os perigosos bandidos.\n",
      "\n",
      "\n",
      "               Meia-Noite traz a morte!\n",
      "Personagens:  Shang-Chi - Mestre do Kung Fu,  Meia-Noite,  Fu Manchu,  Si-Fan\n",
      "Argumento:  Jim Starlin,  Steve Englehart - ‘John Harkness’ Roteiro:  Steve Englehart - ‘John Harkness’ Desenho:  Jim Starlin Arte-Final:  Allen \"Al\" Milgrom Cores:  Rita de Carvalho Letrista:  Natan Soares Editor original:  Roy Thomas\n",
      "Publicada originalmente em   Special Marvel Edition (1971) n° 16/1974 - Marvel Comics\n",
      "             \n",
      "Título original americano: \"Midnight Brings Dark Death!\". Fu Manchu envia o filho adotivo para matar Shang-Chi. Meia-Noite não sabe que seu pai é um vilão e não poupa esforços para eliminar seu irmão adotivo.\n",
      "\n",
      "\n",
      "               A chama e a fúria\n",
      "Personagens:  Surfista Prateado,  Tocha Humana II,  Quarteto Fantástico,  Senhor Fantástico,  Mulher Invisível,  Coisa,  Homem-Aranha,  Estranho,  Galactus,  Supersenhor,  Mefisto\n",
      "Roteiro:  Stan Lee Desenho:  John Buscema Arte-Final:  Dan Adkins Cores:  Rita de Carvalho Letrista:  Natan Soares Editor original:  Stan Lee\n",
      "Publicada originalmente em   Silver Surfer, The (1968) n° 15/1970 - Marvel Comics\n",
      "             \n",
      "Título original americano: \"The Flame and the Fury!\". O Surfista vai buscar ajuda no quartel-general do Quarteto Fantástico e, ao chegar, pega trechos de uma conversa e pensa que seus amigos se voltaram contra ele. O Tocha vai atrás do nosso equivocado herói para esclarecer a situação e uma batalha violenta se inicia.\n",
      "\n",
      "\n",
      "               \n",
      "               \n",
      "\n",
      "              \n"
     ]
    }
   ],
   "source": [
    "print(results.text)"
   ]
  },
  {
   "cell_type": "code",
   "execution_count": null,
   "metadata": {},
   "outputs": [],
   "source": []
  },
  {
   "cell_type": "code",
   "execution_count": null,
   "metadata": {},
   "outputs": [],
   "source": []
  },
  {
   "cell_type": "code",
   "execution_count": null,
   "metadata": {},
   "outputs": [],
   "source": []
  },
  {
   "cell_type": "code",
   "execution_count": null,
   "metadata": {},
   "outputs": [],
   "source": []
  },
  {
   "cell_type": "code",
   "execution_count": null,
   "metadata": {},
   "outputs": [],
   "source": []
  },
  {
   "cell_type": "markdown",
   "metadata": {},
   "source": [
    "### 1.2 retrieve list of links for all editions"
   ]
  },
  {
   "cell_type": "code",
   "execution_count": null,
   "metadata": {},
   "outputs": [],
   "source": []
  },
  {
   "cell_type": "code",
   "execution_count": null,
   "metadata": {},
   "outputs": [],
   "source": []
  },
  {
   "cell_type": "code",
   "execution_count": null,
   "metadata": {},
   "outputs": [],
   "source": []
  },
  {
   "cell_type": "code",
   "execution_count": null,
   "metadata": {},
   "outputs": [],
   "source": []
  }
 ],
 "metadata": {
  "kernelspec": {
   "display_name": "Python 3",
   "language": "python",
   "name": "python3"
  },
  "language_info": {
   "codemirror_mode": {
    "name": "ipython",
    "version": 3
   },
   "file_extension": ".py",
   "mimetype": "text/x-python",
   "name": "python",
   "nbconvert_exporter": "python",
   "pygments_lexer": "ipython3",
   "version": "3.7.2"
  }
 },
 "nbformat": 4,
 "nbformat_minor": 4
}
