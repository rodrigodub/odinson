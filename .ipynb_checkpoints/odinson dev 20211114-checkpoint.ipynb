{
 "cells": [
  {
   "cell_type": "markdown",
   "metadata": {},
   "source": [
    "# odinson\n",
    "Retrieve original Marvel Comics editions for stories published in old brazilian comics\n",
    "\n",
    "##### 2021.11.14\n",
    "\n",
    "---\n",
    "\n",
    "## Souces\n",
    "\n",
    "[Guia dos Quadrinhos](http://www.guiadosquadrinhos.com/)\n",
    "- [Heróis da TV](http://www.guiadosquadrinhos.com/edicao/herois-da-tv-2-serie-n-1/htv0302/6274)\n",
    "- [Superaventuras Marvel](http://www.guiadosquadrinhos.com/edicao/superaventuras-marvel-n-1/sam0301/7927)\n",
    "- [Almanaque Premiere Marvel](http://www.guiadosquadrinhos.com/edicao/almanaque-premiere-marvel-n-1/apm02001/18611)\n",
    "\n",
    "---\n"
   ]
  },
  {
   "cell_type": "markdown",
   "metadata": {},
   "source": [
    "## 1. Develop retrieving:\n",
    "- edition\n",
    "    - id=\"nome_titulo_lb\"\n",
    "- ~cover image? link?~\n",
    "    - id=\"ampliar_capa\"\n",
    "- story (portuguese)\n",
    "    - all: id=\"texto_pag_detalhe\"\n",
    "- main character\n",
    "- original publication\n",
    "- year\n",
    "- original title"
   ]
  },
  {
   "cell_type": "code",
   "execution_count": 2,
   "metadata": {},
   "outputs": [],
   "source": [
    "htvurl = \"http://www.guiadosquadrinhos.com/edicao/herois-da-tv-2-serie-n-1/htv0302/6274\""
   ]
  },
  {
   "cell_type": "markdown",
   "metadata": {},
   "source": [
    "### 1.1 dev scrape main #1 page"
   ]
  },
  {
   "cell_type": "code",
   "execution_count": 3,
   "metadata": {},
   "outputs": [],
   "source": [
    "# dev scraping\n",
    "import requests\n",
    "from bs4 import BeautifulSoup\n",
    "\n",
    "URL = htvurl\n",
    "page = requests.get(URL)\n",
    "\n",
    "soup = BeautifulSoup(page.content, \"html.parser\")"
   ]
  },
  {
   "cell_type": "code",
   "execution_count": 5,
   "metadata": {},
   "outputs": [
    {
     "data": {
      "text/plain": [
       "<span id=\"nome_titulo_lb\">Heróis da TV <nobr>2ª Série -</nobr> <nobr>n° 1</nobr></span>"
      ]
     },
     "execution_count": 5,
     "metadata": {},
     "output_type": "execute_result"
    }
   ],
   "source": [
    "# Edition\n",
    "soup.find(id=\"nome_titulo_lb\")"
   ]
  },
  {
   "cell_type": "code",
   "execution_count": 6,
   "metadata": {},
   "outputs": [
    {
     "data": {
      "text/plain": [
       "<a alt=\"Heróis da TV n° 1 - Abril\" href=\"http://www.guiadosquadrinhos.com/edicao/ShowImage.aspx?id=6274&amp;path=abril/h/htv0302001.jpg\" id=\"ampliar_capa\" title=\"Heróis da TV n° 1 - Abril\"><img alt=\"Heróis da TV n° 1 - Abril\" height=\"619\" src=\"http://www.guiadosquadrinhos.com/edicao/ShowImage.aspx?id=6274&amp;path=abril/h/htv0302001.jpg&amp;w=400&amp;h=619\" title=\"Heróis da TV n° 1 - Abril\" width=\"400\"/></a>"
      ]
     },
     "execution_count": 6,
     "metadata": {},
     "output_type": "execute_result"
    }
   ],
   "source": [
    "# Cover\n",
    "soup.find(id=\"ampliar_capa\")"
   ]
  },
  {
   "cell_type": "code",
   "execution_count": null,
   "metadata": {},
   "outputs": [],
   "source": [
    "# All stories (page section)\n",
    "results = soup.find(id=\"texto_pag_detalhe\")\n",
    "# print(results.prettify())\n",
    "results"
   ]
  },
  {
   "cell_type": "code",
   "execution_count": 10,
   "metadata": {},
   "outputs": [
    {
     "name": "stdout",
     "output_type": "stream",
     "text": [
      "<div class=\"historia\">O Devorador de Planetas</div>\n",
      "\n",
      "<div class=\"historia\">Deve um deus prevalecer?</div>\n",
      "\n",
      "<div class=\"historia\">Duelo de ferro</div>\n",
      "\n",
      "<div class=\"historia\">Amargo adeus</div>\n",
      "\n",
      "<div class=\"historia\">Meia-Noite traz a morte!</div>\n",
      "\n",
      "<div class=\"historia\">A chama e a fúria</div>\n",
      "\n"
     ]
    }
   ],
   "source": [
    "# All stories (individual)\n",
    "stories = results.find_all(\"div\", class_=\"historia\")\n",
    "for story in stories:\n",
    "    print(story, end=\"\\n\"*2)"
   ]
  },
  {
   "cell_type": "code",
   "execution_count": 11,
   "metadata": {},
   "outputs": [
    {
     "data": {
      "text/plain": [
       "[<div class=\"historia\">O Devorador de Planetas</div>,\n",
       " <div class=\"historia\">Deve um deus prevalecer?</div>,\n",
       " <div class=\"historia\">Duelo de ferro</div>,\n",
       " <div class=\"historia\">Amargo adeus</div>,\n",
       " <div class=\"historia\">Meia-Noite traz a morte!</div>,\n",
       " <div class=\"historia\">A chama e a fúria</div>]"
      ]
     },
     "execution_count": 11,
     "metadata": {},
     "output_type": "execute_result"
    }
   ],
   "source": [
    "stories"
   ]
  },
  {
   "cell_type": "code",
   "execution_count": 23,
   "metadata": {},
   "outputs": [
    {
     "name": "stdout",
     "output_type": "stream",
     "text": [
      "\n",
      "<br/><strong>Personagens: </strong> <a href=\"../../../personagem/thor-(thor-odinson-(donald-blake-jake-olson))/14\">Thor</a>,  <a href=\"../../../personagem/galactus-(galan-)/105\">Galactus</a>,  <a href=\"../../../personagem/ego-o-planeta-vivo/348\">Ego, O Planeta Vivo</a>,  <a href=\"../../../personagem/registrador-211/5695\">Registrador 211</a>\n",
      "<br/><strong>Roteiro: </strong> <a href=\"../../../artista/stan-lee/2\">Stan Lee</a> <br/><strong>Desenho: </strong> <a href=\"../../../artista/jack-kirby/1\">Jack Kirby</a> <br/><strong>Arte-Final: </strong> <a href=\"../../../artista/vince-colletta/46\">Vince Colletta</a> <br/><strong>Editor original: </strong> <a href=\"../../../artista/stan-lee/2\">Stan Lee</a>\n",
      "<br/>Publicada originalmente em   <a href=\"../../../edicao-estrangeira/thor-(1966)-n-161/261/5918\">Thor (1966) n° 161</a>/1969 - Marvel Comics\n",
      "             \n",
      "<br/>Título original americano: \"Shall a God Prevail?\". Confronto final entre Thor e as forças de Galactus.\n",
      "\n",
      "\n",
      "               \n"
     ]
    }
   ],
   "source": [
    "# Take the contents for 1 story\n",
    "# results\n",
    "# stories[0:2]\n",
    "story = f\"{results}\".split(f\"{stories[1]}\")[1].split(f\"{stories[2]}\")[0]\n",
    "print(story)"
   ]
  },
  {
   "cell_type": "code",
   "execution_count": null,
   "metadata": {},
   "outputs": [],
   "source": []
  },
  {
   "cell_type": "code",
   "execution_count": null,
   "metadata": {},
   "outputs": [],
   "source": []
  },
  {
   "cell_type": "code",
   "execution_count": null,
   "metadata": {},
   "outputs": [],
   "source": []
  },
  {
   "cell_type": "code",
   "execution_count": null,
   "metadata": {},
   "outputs": [],
   "source": []
  },
  {
   "cell_type": "markdown",
   "metadata": {},
   "source": [
    "### 1.2 retrieve list of links for all editions"
   ]
  },
  {
   "cell_type": "code",
   "execution_count": null,
   "metadata": {},
   "outputs": [],
   "source": []
  },
  {
   "cell_type": "code",
   "execution_count": null,
   "metadata": {},
   "outputs": [],
   "source": []
  },
  {
   "cell_type": "code",
   "execution_count": null,
   "metadata": {},
   "outputs": [],
   "source": []
  },
  {
   "cell_type": "code",
   "execution_count": null,
   "metadata": {},
   "outputs": [],
   "source": []
  }
 ],
 "metadata": {
  "kernelspec": {
   "display_name": "Python 3",
   "language": "python",
   "name": "python3"
  },
  "language_info": {
   "codemirror_mode": {
    "name": "ipython",
    "version": 3
   },
   "file_extension": ".py",
   "mimetype": "text/x-python",
   "name": "python",
   "nbconvert_exporter": "python",
   "pygments_lexer": "ipython3",
   "version": "3.7.2"
  }
 },
 "nbformat": 4,
 "nbformat_minor": 4
}
