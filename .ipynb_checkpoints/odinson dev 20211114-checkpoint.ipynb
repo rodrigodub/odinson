{
 "cells": [
  {
   "cell_type": "markdown",
   "metadata": {},
   "source": [
    "# odinson\n",
    "Retrieve original Marvel Comics editions for stories published in old brazilian comics\n",
    "\n",
    "##### 2021.11.14\n",
    "\n",
    "---\n",
    "\n",
    "## Souces\n",
    "\n",
    "[Guia dos Quadrinhos](http://www.guiadosquadrinhos.com/)\n",
    "- [Heróis da TV](http://www.guiadosquadrinhos.com/edicao/herois-da-tv-2-serie-n-1/htv0302/6274)\n",
    "- [Superaventuras Marvel](http://www.guiadosquadrinhos.com/edicao/superaventuras-marvel-n-1/sam0301/7927)\n",
    "- [Almanaque Premiere Marvel](http://www.guiadosquadrinhos.com/edicao/almanaque-premiere-marvel-n-1/apm02001/18611)\n",
    "\n",
    "---\n"
   ]
  },
  {
   "cell_type": "markdown",
   "metadata": {},
   "source": [
    "## 1. Develop retrieving:\n",
    "- edition\n",
    "    - id=\"nome_titulo_lb\"\n",
    "- ~cover image? link?~\n",
    "    - id=\"ampliar_capa\"\n",
    "- story (portuguese)\n",
    "    - all: id=\"texto_pag_detalhe\"\n",
    "- main character\n",
    "- original publication\n",
    "- year\n",
    "- original title"
   ]
  },
  {
   "cell_type": "code",
   "execution_count": null,
   "metadata": {},
   "outputs": [],
   "source": [
    "urlroot = \"http://www.guiadosquadrinhos.com/\"\n",
    "# urledition = \"edicao/herois-da-tv-2-serie-n-1/htv0302/6274\"\n",
    "urledition = \"edicao/superaventuras-marvel-n-1/sam0301/7927\""
   ]
  },
  {
   "cell_type": "code",
   "execution_count": null,
   "metadata": {},
   "outputs": [],
   "source": [
    "urlroot + urledition"
   ]
  },
  {
   "cell_type": "markdown",
   "metadata": {},
   "source": [
    "### 1.1 dev scrape main #1 page"
   ]
  },
  {
   "cell_type": "code",
   "execution_count": null,
   "metadata": {},
   "outputs": [],
   "source": [
    "# dev scraping\n",
    "import requests\n",
    "from bs4 import BeautifulSoup\n",
    "\n",
    "URL = urlroot + urledition\n",
    "page = requests.get(URL)\n",
    "\n",
    "thesoup = BeautifulSoup(page.content, \"html.parser\")"
   ]
  },
  {
   "cell_type": "markdown",
   "metadata": {},
   "source": [
    "#### 1.1.1 Edition"
   ]
  },
  {
   "cell_type": "code",
   "execution_count": null,
   "metadata": {},
   "outputs": [],
   "source": [
    "# Edition\n",
    "def edition(asoup):\n",
    "    ed = asoup.find(id=\"nome_titulo_lb\")\n",
    "    edl = ed.contents\n",
    "    edl = [f\"{i}\".strip() for i in edl]\n",
    "    edl = [i.split(\">\")[1] if \">\" in i else i for i in edl]\n",
    "    edl = [i.split(\"<\")[0] if \"<\" in i else i for i in edl]\n",
    "    edl = [i.replace(\"n°\", \"\").strip() for i in edl if i != '']\n",
    "    return edl"
   ]
  },
  {
   "cell_type": "code",
   "execution_count": null,
   "metadata": {},
   "outputs": [],
   "source": [
    "ed = edition(thesoup)\n",
    "ed"
   ]
  },
  {
   "cell_type": "markdown",
   "metadata": {},
   "source": [
    "#### 1.1.2 Edition Contents"
   ]
  },
  {
   "cell_type": "code",
   "execution_count": null,
   "metadata": {},
   "outputs": [],
   "source": [
    "def contents(asoup):\n",
    "    results = asoup.find(id=\"texto_pag_detalhe\")\n",
    "    results = results.text\n",
    "    return results"
   ]
  },
  {
   "cell_type": "code",
   "execution_count": null,
   "metadata": {},
   "outputs": [],
   "source": [
    "editioncontents = contents(thesoup)\n",
    "print(editioncontents)"
   ]
  },
  {
   "cell_type": "markdown",
   "metadata": {},
   "source": [
    "#### 1.1.3 Stories"
   ]
  },
  {
   "cell_type": "code",
   "execution_count": null,
   "metadata": {},
   "outputs": [],
   "source": [
    "# All stories (individual)\n",
    "def stories(asoup):\n",
    "    storiesdict = {}\n",
    "    # page section\n",
    "    results = asoup.find(id=\"texto_pag_detalhe\")\n",
    "    # individual stories\n",
    "    stories = results.find_all(\"div\", class_=\"historia\")\n",
    "#     storieslist = [i.text for i in stories]\n",
    "    for i in range(len(stories)):\n",
    "        storiesdict[i] = stories[i].text\n",
    "    return storiesdict"
   ]
  },
  {
   "cell_type": "code",
   "execution_count": null,
   "metadata": {},
   "outputs": [],
   "source": [
    "stories = stories(thesoup)\n",
    "stories"
   ]
  },
  {
   "cell_type": "markdown",
   "metadata": {},
   "source": [
    "#### 1.1.4 Story Details"
   ]
  },
  {
   "cell_type": "code",
   "execution_count": null,
   "metadata": {},
   "outputs": [],
   "source": [
    "def storydetails(contents, stories, storynumber):\n",
    "    # return details only if story exists\n",
    "    if (storynumber == 0 or storynumber > len(stories)):\n",
    "        storydetails = None\n",
    "    # for any story before the last\n",
    "    elif storynumber < len(stories):\n",
    "        storydetails = contents.split(stories[storynumber-1])[1].split(stories[storynumber])[0]\n",
    "    # for the last story\n",
    "    elif storynumber == len(stories):\n",
    "        storydetails = contents.split(stories[storynumber-1])[1]\n",
    "    return storydetails"
   ]
  },
  {
   "cell_type": "code",
   "execution_count": null,
   "metadata": {},
   "outputs": [],
   "source": [
    "thestorydetail = storydetails(editioncontents, stories, 4)\n",
    "print(thestorydetail)"
   ]
  },
  {
   "cell_type": "markdown",
   "metadata": {},
   "source": [
    "#### 1.1.5 Main Character"
   ]
  },
  {
   "cell_type": "code",
   "execution_count": null,
   "metadata": {},
   "outputs": [],
   "source": [
    "def maincharacter(astorydetail):\n",
    "    character = astorydetail.split(\",\")[0].split(\"Personagens:\")[1].strip()\n",
    "    return character"
   ]
  },
  {
   "cell_type": "code",
   "execution_count": null,
   "metadata": {},
   "outputs": [],
   "source": [
    "thecharacter = maincharacter(thestorydetail)\n",
    "thecharacter"
   ]
  },
  {
   "cell_type": "markdown",
   "metadata": {},
   "source": [
    "#### 1.1.6 Original Title"
   ]
  },
  {
   "cell_type": "code",
   "execution_count": null,
   "metadata": {},
   "outputs": [],
   "source": [
    "def originaltitle(astorydetail):\n",
    "    title = astorydetail.split(\"Publicada originalmente em\")[1].split(\"(\")[0].strip()\n",
    "    return title"
   ]
  },
  {
   "cell_type": "code",
   "execution_count": null,
   "metadata": {},
   "outputs": [],
   "source": [
    "theoriginal = originaltitle(thestorydetail)\n",
    "theoriginal"
   ]
  },
  {
   "cell_type": "markdown",
   "metadata": {},
   "source": [
    "#### 1.1.7 Original Number"
   ]
  },
  {
   "cell_type": "code",
   "execution_count": null,
   "metadata": {},
   "outputs": [],
   "source": [
    "def originalnumber(astorydetail):\n",
    "    issue = astorydetail.split(\"Publicada originalmente em\")[1].split(\")\")[1].replace(\"n°\\xa0\", \"\").split(\"/\")[0].strip()\n",
    "    return issue"
   ]
  },
  {
   "cell_type": "code",
   "execution_count": null,
   "metadata": {},
   "outputs": [],
   "source": [
    "thenumber = originalnumber(thestorydetail)\n",
    "thenumber"
   ]
  },
  {
   "cell_type": "markdown",
   "metadata": {},
   "source": [
    "#### 1.1.8 Original Year"
   ]
  },
  {
   "cell_type": "code",
   "execution_count": null,
   "metadata": {},
   "outputs": [],
   "source": [
    "def originalyear(astorydetail):\n",
    "    year = astorydetail.split(\"Publicada originalmente em\")[1].split(\")\")[1].replace(\"n°\\xa0\", \"\").split(\"/\")[1].split()[0].strip()\n",
    "    return year"
   ]
  },
  {
   "cell_type": "code",
   "execution_count": null,
   "metadata": {},
   "outputs": [],
   "source": [
    "theyear = originalyear(thestorydetail)\n",
    "theyear"
   ]
  },
  {
   "cell_type": "code",
   "execution_count": null,
   "metadata": {},
   "outputs": [],
   "source": []
  },
  {
   "cell_type": "code",
   "execution_count": null,
   "metadata": {},
   "outputs": [],
   "source": []
  },
  {
   "cell_type": "markdown",
   "metadata": {},
   "source": [
    "## 2 retrieve list of links for all editions"
   ]
  },
  {
   "cell_type": "code",
   "execution_count": null,
   "metadata": {},
   "outputs": [],
   "source": [
    "def navigator(asoup):\n",
    "    outlist = []\n",
    "    nav = asoup.find(id=\"d0\")\n",
    "    for link in nav.find_all(\"a\"):\n",
    "        outlist.append(f'{link[\"href\"].replace(\"../\", \"\")}')\n",
    "    return outlist"
   ]
  },
  {
   "cell_type": "code",
   "execution_count": null,
   "metadata": {},
   "outputs": [],
   "source": [
    "alleditions = navigator(thesoup)"
   ]
  },
  {
   "cell_type": "code",
   "execution_count": null,
   "metadata": {},
   "outputs": [],
   "source": [
    "alleditions"
   ]
  },
  {
   "cell_type": "markdown",
   "metadata": {},
   "source": [
    "## 3. Save CSV and print log"
   ]
  },
  {
   "cell_type": "code",
   "execution_count": null,
   "metadata": {},
   "outputs": [],
   "source": []
  },
  {
   "cell_type": "code",
   "execution_count": null,
   "metadata": {},
   "outputs": [],
   "source": [
    "dict1 = {1:(\"a\", \"b\"), 2:(\"c\", \"d\")}"
   ]
  },
  {
   "cell_type": "code",
   "execution_count": null,
   "metadata": {},
   "outputs": [],
   "source": [
    "dict1[2][0]"
   ]
  },
  {
   "cell_type": "code",
   "execution_count": null,
   "metadata": {},
   "outputs": [],
   "source": [
    "list1 = [10, 9, 8]\n",
    "list1.insert(0, 1)\n",
    "list1"
   ]
  },
  {
   "cell_type": "code",
   "execution_count": null,
   "metadata": {},
   "outputs": [],
   "source": []
  },
  {
   "cell_type": "markdown",
   "metadata": {},
   "source": [
    "## 4. Test"
   ]
  },
  {
   "cell_type": "code",
   "execution_count": 1,
   "metadata": {},
   "outputs": [],
   "source": [
    "from odinson import *"
   ]
  },
  {
   "cell_type": "code",
   "execution_count": 2,
   "metadata": {},
   "outputs": [
    {
     "name": "stdout",
     "output_type": "stream",
     "text": [
      " =============================================\n",
      " Retrieving page contents for\n",
      " http://www.guiadosquadrinhos.com/edicao/herois-da-tv-n-2/htv0302/6275\n",
      " ---------------------------------------------\n",
      "  Heróis da TV #2\n",
      " ---------------------------------------------\n"
     ]
    }
   ],
   "source": [
    "# od = Odinson(\"http://www.guiadosquadrinhos.com/edicao/herois-da-tv-2-serie-n-1/htv0302/6274\")\n",
    "od = Odinson(\"http://www.guiadosquadrinhos.com/edicao/herois-da-tv-n-2/htv0302/6275\")"
   ]
  },
  {
   "cell_type": "code",
   "execution_count": null,
   "metadata": {},
   "outputs": [],
   "source": [
    "od.initialurl"
   ]
  },
  {
   "cell_type": "code",
   "execution_count": null,
   "metadata": {},
   "outputs": [],
   "source": [
    "od.editionurl"
   ]
  },
  {
   "cell_type": "code",
   "execution_count": null,
   "metadata": {},
   "outputs": [],
   "source": [
    "od.editionnumber"
   ]
  },
  {
   "cell_type": "code",
   "execution_count": null,
   "metadata": {},
   "outputs": [],
   "source": [
    "od.editioncontents[:800]"
   ]
  },
  {
   "cell_type": "code",
   "execution_count": null,
   "metadata": {},
   "outputs": [],
   "source": [
    "od.editioncontents"
   ]
  },
  {
   "cell_type": "code",
   "execution_count": null,
   "metadata": {},
   "outputs": [],
   "source": [
    "od.storytitles"
   ]
  },
  {
   "cell_type": "code",
   "execution_count": 3,
   "metadata": {},
   "outputs": [
    {
     "data": {
      "text/plain": [
       "{0: '\\nPersonagens:  Capitão Marvel,  Rick Jones,  Hulk,  Mordecai Boggs,  Capitão América,  Vingadores,  Thor,  Homem de Ferro,  Gigante,  Yon-Rogg\\nRoteiro:  Roy Thomas Desenho:  Gil Kane Arte-Final:  Dan Adkins Cores:  Rita de Carvalho Letrista:  José Belmiro Editor original:  Stan Lee\\nPublicada originalmente em   Captain Marvel (1968) n°\\xa020/1970 - Marvel Comics\\r\\n             \\r\\nTítulo original americano: “The hunter and the holocaust”.\\r\\n\\r\\n\\r\\n               ',\n",
       " 1: '\\nPersonagens:  Capitão Marvel,  Rick Jones,  Hulk\\nRoteiro:  Roy Thomas Desenho:  Gil Kane Arte-Final:  Dan Adkins Cores:  Rita de Carvalho Letrista:  José Belmiro Editor original:  Stan Lee\\nPublicada originalmente em   Captain Marvel (1968) n°\\xa021/1970 - Marvel Comics\\r\\n             \\r\\nTítulo original americano: “Here comes the Hulk!”.\\r\\n\\r\\n\\r\\n               ',\n",
       " 2: '\\nPersonagens:  Homem de Ferro,  Fantasma (Sabotador),  Pepper Potts,  Happy Hogan\\nRoteiro:  Stan Lee Desenho:  Don Heck Arte-Final:  Dick Ayers Cores:  Rita de Carvalho Letrista:  Natan Soares Editor original:  Stan Lee\\nPublicada originalmente em   Tales of Suspense (1959) n°\\xa063/1965 - Marvel Comics\\r\\n             \\r\\nTítulo original: \"Somewhere lurks the Phantom!\".\\r\\n\\r\\n\\r\\n               ',\n",
       " 3: '\\nPersonagens:  Campeões,  Anjo,  Hércules,  Homem de Gelo,  Motoqueiro Fantasma,  Viúva Negra II,  Dionísio,  Plutão,  Ares,  Rainha Hipólita,  Zeus,  Caçador de Zeus,  Afrodite\\nArgumento:  Tony Isabella Roteiro:  Bill Mantlo Desenho:  George Tuska Arte-Final:  Vince Colletta Cores:  Ângela Letrista:  Natan Soares Editor original:  Marv Wolfman\\nPublicada originalmente em   Champions, The (1975) n°\\xa03/1976 - Marvel Comics\\r\\n             \\r\\nTítulo original: \"Assault on Olympus\".\\r\\n\\r\\n\\r\\n               ',\n",
       " 4: '\\nPersonagens:  Shang-Chi - Mestre do Kung Fu\\nRoteiro:  Gerry Conway,  Doug Moench Desenho:  Paul Gulacy Arte-Final:  Allen \"Al\" Milgrom Editor original:  Roy Thomas\\nPublicada originalmente em   Master of Kung Fu (1974) n°\\xa020/1974 - Marvel Comics\\r\\n             \\r\\nTítulo original americano: “Weapon of the soul”.O roteirista da 1ª parte é Gerry Conway e o da 2ª parte é o Doug Moench.\\r\\n\\r\\n\\r\\n               ',\n",
       " 5: '\\nPersonagens:  Homem-Formiga,  Besouro Escarlate\\nRoteiro:  Roy Thomas Desenho:  Ross Andru Arte-Final:  Mike Esposito - ‘Joe Gaudioso/Mickey Demeo’ Editor original:  Stan Lee\\nPublicada originalmente em   Iron Man (1968) n°\\xa044/1972 - Marvel Comics\\r\\n             \\r\\nTítulo original: Armageddon on Avenue \"A\".\\r\\n\\r\\n\\r\\n               ',\n",
       " 6: '\\nPersonagens:  Motoqueiro Fantasma\\nRoteiro:  Bill Mantlo Desenho:  George Tuska Arte-Final:  Vince Colletta Editor original:  Marv Wolfman\\nPublicada originalmente em   Ghost Rider (1973) n°\\xa016/1976 - Marvel Comics\\r\\n             \\r\\nTítulo original: \"Blood in the waters\".\\r\\n\\r\\n\\r\\n               \\r\\n               \\r\\n\\r\\n              '}"
      ]
     },
     "execution_count": 3,
     "metadata": {},
     "output_type": "execute_result"
    }
   ],
   "source": [
    "od.storydetails"
   ]
  },
  {
   "cell_type": "code",
   "execution_count": 4,
   "metadata": {},
   "outputs": [
    {
     "ename": "IndexError",
     "evalue": "list index out of range",
     "output_type": "error",
     "traceback": [
      "\u001b[0;31m---------------------------------------------------------------------------\u001b[0m",
      "\u001b[0;31mIndexError\u001b[0m                                Traceback (most recent call last)",
      "\u001b[0;32m<ipython-input-4-8d75cc0c6a46>\u001b[0m in \u001b[0;36m<module>\u001b[0;34m\u001b[0m\n\u001b[1;32m      1\u001b[0m \u001b[0;31m# troubleshoot\u001b[0m\u001b[0;34m\u001b[0m\u001b[0;34m\u001b[0m\u001b[0;34m\u001b[0m\u001b[0m\n\u001b[1;32m      2\u001b[0m \u001b[0mi\u001b[0m \u001b[0;34m=\u001b[0m \u001b[0;36m0\u001b[0m\u001b[0;34m\u001b[0m\u001b[0;34m\u001b[0m\u001b[0m\n\u001b[0;32m----> 3\u001b[0;31m \u001b[0msumdict\u001b[0m \u001b[0;34m=\u001b[0m \u001b[0mod\u001b[0m\u001b[0;34m.\u001b[0m\u001b[0mstorydetails\u001b[0m\u001b[0;34m[\u001b[0m\u001b[0mi\u001b[0m\u001b[0;34m]\u001b[0m\u001b[0;34m.\u001b[0m\u001b[0msplit\u001b[0m\u001b[0;34m(\u001b[0m\u001b[0;34m'\".'\u001b[0m\u001b[0;34m)\u001b[0m\u001b[0;34m[\u001b[0m\u001b[0;36m1\u001b[0m\u001b[0;34m]\u001b[0m\u001b[0;34m.\u001b[0m\u001b[0msplit\u001b[0m\u001b[0;34m(\u001b[0m\u001b[0;34m\"\\r\\n\"\u001b[0m\u001b[0;34m)\u001b[0m\u001b[0;34m[\u001b[0m\u001b[0;36m0\u001b[0m\u001b[0;34m]\u001b[0m\u001b[0;34m.\u001b[0m\u001b[0mstrip\u001b[0m\u001b[0;34m(\u001b[0m\u001b[0;34m)\u001b[0m\u001b[0;34m\u001b[0m\u001b[0;34m\u001b[0m\u001b[0m\n\u001b[0m\u001b[1;32m      4\u001b[0m \u001b[0msumdict\u001b[0m\u001b[0;34m\u001b[0m\u001b[0;34m\u001b[0m\u001b[0m\n",
      "\u001b[0;31mIndexError\u001b[0m: list index out of range"
     ]
    }
   ],
   "source": [
    "# troubleshoot\n",
    "i = 0\n",
    "sumdict = od.storydetails[i].split('\".')[1].split(\"\\r\\n\")[0].strip()\n",
    "sumdict"
   ]
  },
  {
   "cell_type": "code",
   "execution_count": null,
   "metadata": {},
   "outputs": [],
   "source": [
    "od.maincharacter"
   ]
  },
  {
   "cell_type": "code",
   "execution_count": null,
   "metadata": {},
   "outputs": [],
   "source": [
    "od.originaltitle"
   ]
  },
  {
   "cell_type": "code",
   "execution_count": null,
   "metadata": {},
   "outputs": [],
   "source": [
    "od.originalnumber"
   ]
  },
  {
   "cell_type": "code",
   "execution_count": null,
   "metadata": {},
   "outputs": [],
   "source": [
    "od.editionnumber[0] "
   ]
  },
  {
   "cell_type": "code",
   "execution_count": null,
   "metadata": {},
   "outputs": [],
   "source": [
    "od.editiondf"
   ]
  },
  {
   "cell_type": "code",
   "execution_count": null,
   "metadata": {},
   "outputs": [],
   "source": [
    "pd.concat"
   ]
  },
  {
   "cell_type": "code",
   "execution_count": null,
   "metadata": {},
   "outputs": [],
   "source": [
    "import datetime"
   ]
  },
  {
   "cell_type": "code",
   "execution_count": null,
   "metadata": {},
   "outputs": [],
   "source": [
    "datetime.datetime.strftime(datetime.datetime.now(), '%Y%m%d%H%M')"
   ]
  },
  {
   "cell_type": "code",
   "execution_count": null,
   "metadata": {},
   "outputs": [],
   "source": []
  },
  {
   "cell_type": "markdown",
   "metadata": {},
   "source": [
    "## 5. Navigate results"
   ]
  },
  {
   "cell_type": "code",
   "execution_count": 5,
   "metadata": {},
   "outputs": [],
   "source": [
    "htv = pd.read_csv(\"Comics_HeroisDaTV_202111302051.csv\")"
   ]
  },
  {
   "cell_type": "code",
   "execution_count": 6,
   "metadata": {},
   "outputs": [
    {
     "data": {
      "text/html": [
       "<div>\n",
       "<style scoped>\n",
       "    .dataframe tbody tr th:only-of-type {\n",
       "        vertical-align: middle;\n",
       "    }\n",
       "\n",
       "    .dataframe tbody tr th {\n",
       "        vertical-align: top;\n",
       "    }\n",
       "\n",
       "    .dataframe thead th {\n",
       "        text-align: right;\n",
       "    }\n",
       "</style>\n",
       "<table border=\"1\" class=\"dataframe\">\n",
       "  <thead>\n",
       "    <tr style=\"text-align: right;\">\n",
       "      <th></th>\n",
       "      <th>Unnamed: 0</th>\n",
       "      <th>BRTITLE</th>\n",
       "      <th>BRNUM</th>\n",
       "      <th>STORYNUM</th>\n",
       "      <th>BRSTORY</th>\n",
       "      <th>MAINCHAR</th>\n",
       "      <th>ALLCHAR</th>\n",
       "      <th>ORIGTITLE</th>\n",
       "      <th>ORIGNUM</th>\n",
       "      <th>ORIGYEAR</th>\n",
       "      <th>WRITER</th>\n",
       "      <th>ARTIST</th>\n",
       "      <th>SUMMARY</th>\n",
       "    </tr>\n",
       "  </thead>\n",
       "  <tbody>\n",
       "    <tr>\n",
       "      <th>0</th>\n",
       "      <td>0</td>\n",
       "      <td>Heróis da TV</td>\n",
       "      <td>1</td>\n",
       "      <td>1</td>\n",
       "      <td>O Devorador de Planetas</td>\n",
       "      <td>Thor</td>\n",
       "      <td>Thor Galactus Tana Nile Odin Sif Registrador 2...</td>\n",
       "      <td>Thor</td>\n",
       "      <td>160.0</td>\n",
       "      <td>1969.0</td>\n",
       "      <td>Stan Lee</td>\n",
       "      <td>Jack Kirby</td>\n",
       "      <td>Tana Nile pede ajuda ao deus do trovão para en...</td>\n",
       "    </tr>\n",
       "    <tr>\n",
       "      <th>1</th>\n",
       "      <td>1</td>\n",
       "      <td>Heróis da TV</td>\n",
       "      <td>1</td>\n",
       "      <td>2</td>\n",
       "      <td>Deve um deus prevalecer?</td>\n",
       "      <td>Thor</td>\n",
       "      <td>Thor Galactus Ego O Planeta Vivo Registrador 211</td>\n",
       "      <td>Thor</td>\n",
       "      <td>161.0</td>\n",
       "      <td>1969.0</td>\n",
       "      <td>Stan Lee</td>\n",
       "      <td>Jack Kirby</td>\n",
       "      <td>Confronto final entre Thor e as forças de Gala...</td>\n",
       "    </tr>\n",
       "    <tr>\n",
       "      <th>2</th>\n",
       "      <td>2</td>\n",
       "      <td>Heróis da TV</td>\n",
       "      <td>1</td>\n",
       "      <td>3</td>\n",
       "      <td>Duelo de ferro</td>\n",
       "      <td>Punho de Ferro</td>\n",
       "      <td>Punho de Ferro Homem de Ferro Rafael Scarfe Mi...</td>\n",
       "      <td>Iron Fist</td>\n",
       "      <td>1.0</td>\n",
       "      <td>1975.0</td>\n",
       "      <td>Chris Claremont</td>\n",
       "      <td>John Byrne</td>\n",
       "      <td>Nosso herói invade a propriedade de Tony Stark...</td>\n",
       "    </tr>\n",
       "    <tr>\n",
       "      <th>3</th>\n",
       "      <td>3</td>\n",
       "      <td>Heróis da TV</td>\n",
       "      <td>1</td>\n",
       "      <td>4</td>\n",
       "      <td>Amargo adeus</td>\n",
       "      <td>Homem de Ferro</td>\n",
       "      <td>Homem de Ferro Mecanóide</td>\n",
       "      <td>Iron Man</td>\n",
       "      <td>32.0</td>\n",
       "      <td>1970.0</td>\n",
       "      <td>Allyn Brodsky</td>\n",
       "      <td>George Tuska</td>\n",
       "      <td>O Ferroso é capturado por um andróide alieníge...</td>\n",
       "    </tr>\n",
       "    <tr>\n",
       "      <th>4</th>\n",
       "      <td>4</td>\n",
       "      <td>Heróis da TV</td>\n",
       "      <td>1</td>\n",
       "      <td>5</td>\n",
       "      <td>Meia-Noite traz a morte!</td>\n",
       "      <td>Shang-Chi - Mestre do Kung Fu</td>\n",
       "      <td>Shang-Chi - Mestre do Kung Fu Meia-Noite Fu Ma...</td>\n",
       "      <td>Special Marvel Edition</td>\n",
       "      <td>16.0</td>\n",
       "      <td>1974.0</td>\n",
       "      <td>Steve Englehart - ‘John Harkness’</td>\n",
       "      <td>Jim Starlin</td>\n",
       "      <td>Fu Manchu envia o filho adotivo para matar Sha...</td>\n",
       "    </tr>\n",
       "    <tr>\n",
       "      <th>...</th>\n",
       "      <td>...</td>\n",
       "      <td>...</td>\n",
       "      <td>...</td>\n",
       "      <td>...</td>\n",
       "      <td>...</td>\n",
       "      <td>...</td>\n",
       "      <td>...</td>\n",
       "      <td>...</td>\n",
       "      <td>...</td>\n",
       "      <td>...</td>\n",
       "      <td>...</td>\n",
       "      <td>...</td>\n",
       "      <td>...</td>\n",
       "    </tr>\n",
       "    <tr>\n",
       "      <th>414</th>\n",
       "      <td>414</td>\n",
       "      <td>Heróis da TV</td>\n",
       "      <td>100</td>\n",
       "      <td>4</td>\n",
       "      <td>Segredo diabólico</td>\n",
       "      <td>Homem de Ferro</td>\n",
       "      <td>Homem de Ferro Diablo</td>\n",
       "      <td>Iron Man</td>\n",
       "      <td>159.0</td>\n",
       "      <td>1982.0</td>\n",
       "      <td>Roger McKenzie</td>\n",
       "      <td>Paul Smith</td>\n",
       "      <td>NaN</td>\n",
       "    </tr>\n",
       "    <tr>\n",
       "      <th>415</th>\n",
       "      <td>415</td>\n",
       "      <td>Heróis da TV</td>\n",
       "      <td>100</td>\n",
       "      <td>5</td>\n",
       "      <td>X-Men</td>\n",
       "      <td>NaN</td>\n",
       "      <td>NaN</td>\n",
       "      <td>NaN</td>\n",
       "      <td>NaN</td>\n",
       "      <td>NaN</td>\n",
       "      <td>NaN</td>\n",
       "      <td>NaN</td>\n",
       "      <td>NaN</td>\n",
       "    </tr>\n",
       "    <tr>\n",
       "      <th>416</th>\n",
       "      <td>416</td>\n",
       "      <td>Heróis da TV</td>\n",
       "      <td>100</td>\n",
       "      <td>6</td>\n",
       "      <td>Animal ferido</td>\n",
       "      <td>Wolverine</td>\n",
       "      <td>Wolverine Chispinha Lady Letal Carniceiros Esp...</td>\n",
       "      <td>Uncanny X-Men, The</td>\n",
       "      <td>205.0</td>\n",
       "      <td>1986.0</td>\n",
       "      <td>Chris Claremont Arte:  Barry Windsor-Smith Cor...</td>\n",
       "      <td>NaN</td>\n",
       "      <td>Apesar do título original americano da revista...</td>\n",
       "    </tr>\n",
       "    <tr>\n",
       "      <th>417</th>\n",
       "      <td>417</td>\n",
       "      <td>Heróis da TV</td>\n",
       "      <td>100</td>\n",
       "      <td>7</td>\n",
       "      <td>A vinda dos vingadores</td>\n",
       "      <td>Vingadores</td>\n",
       "      <td>Vingadores Hulk Thor Homem de Ferro Homem-Form...</td>\n",
       "      <td>Avengers, The</td>\n",
       "      <td>1.0</td>\n",
       "      <td>1963.0</td>\n",
       "      <td>Stan Lee</td>\n",
       "      <td>Jack Kirby</td>\n",
       "      <td>NaN</td>\n",
       "    </tr>\n",
       "    <tr>\n",
       "      <th>418</th>\n",
       "      <td>418</td>\n",
       "      <td>Heróis da TV</td>\n",
       "      <td>100</td>\n",
       "      <td>8</td>\n",
       "      <td>Trágico retorno</td>\n",
       "      <td>Vingadores</td>\n",
       "      <td>Vingadores Mulher-Aranha Capitão América Homem...</td>\n",
       "      <td>Avengers Annual</td>\n",
       "      <td>10.0</td>\n",
       "      <td>1981.0</td>\n",
       "      <td>Chris Claremont</td>\n",
       "      <td>Michael Golden</td>\n",
       "      <td>NaN</td>\n",
       "    </tr>\n",
       "  </tbody>\n",
       "</table>\n",
       "<p>419 rows × 13 columns</p>\n",
       "</div>"
      ],
      "text/plain": [
       "     Unnamed: 0       BRTITLE  BRNUM  STORYNUM                   BRSTORY  \\\n",
       "0             0  Heróis da TV      1         1   O Devorador de Planetas   \n",
       "1             1  Heróis da TV      1         2  Deve um deus prevalecer?   \n",
       "2             2  Heróis da TV      1         3            Duelo de ferro   \n",
       "3             3  Heróis da TV      1         4              Amargo adeus   \n",
       "4             4  Heróis da TV      1         5  Meia-Noite traz a morte!   \n",
       "..          ...           ...    ...       ...                       ...   \n",
       "414         414  Heróis da TV    100         4         Segredo diabólico   \n",
       "415         415  Heróis da TV    100         5                     X-Men   \n",
       "416         416  Heróis da TV    100         6             Animal ferido   \n",
       "417         417  Heróis da TV    100         7    A vinda dos vingadores   \n",
       "418         418  Heróis da TV    100         8           Trágico retorno   \n",
       "\n",
       "                          MAINCHAR  \\\n",
       "0                             Thor   \n",
       "1                             Thor   \n",
       "2                   Punho de Ferro   \n",
       "3                   Homem de Ferro   \n",
       "4    Shang-Chi - Mestre do Kung Fu   \n",
       "..                             ...   \n",
       "414                 Homem de Ferro   \n",
       "415                            NaN   \n",
       "416                      Wolverine   \n",
       "417                     Vingadores   \n",
       "418                     Vingadores   \n",
       "\n",
       "                                               ALLCHAR  \\\n",
       "0    Thor Galactus Tana Nile Odin Sif Registrador 2...   \n",
       "1     Thor Galactus Ego O Planeta Vivo Registrador 211   \n",
       "2    Punho de Ferro Homem de Ferro Rafael Scarfe Mi...   \n",
       "3                             Homem de Ferro Mecanóide   \n",
       "4    Shang-Chi - Mestre do Kung Fu Meia-Noite Fu Ma...   \n",
       "..                                                 ...   \n",
       "414                              Homem de Ferro Diablo   \n",
       "415                                                NaN   \n",
       "416  Wolverine Chispinha Lady Letal Carniceiros Esp...   \n",
       "417  Vingadores Hulk Thor Homem de Ferro Homem-Form...   \n",
       "418  Vingadores Mulher-Aranha Capitão América Homem...   \n",
       "\n",
       "                  ORIGTITLE  ORIGNUM  ORIGYEAR  \\\n",
       "0                      Thor    160.0    1969.0   \n",
       "1                      Thor    161.0    1969.0   \n",
       "2                 Iron Fist      1.0    1975.0   \n",
       "3                  Iron Man     32.0    1970.0   \n",
       "4    Special Marvel Edition     16.0    1974.0   \n",
       "..                      ...      ...       ...   \n",
       "414                Iron Man    159.0    1982.0   \n",
       "415                     NaN      NaN       NaN   \n",
       "416      Uncanny X-Men, The    205.0    1986.0   \n",
       "417           Avengers, The      1.0    1963.0   \n",
       "418         Avengers Annual     10.0    1981.0   \n",
       "\n",
       "                                                WRITER          ARTIST  \\\n",
       "0                                             Stan Lee      Jack Kirby   \n",
       "1                                             Stan Lee      Jack Kirby   \n",
       "2                                      Chris Claremont      John Byrne   \n",
       "3                                        Allyn Brodsky    George Tuska   \n",
       "4                    Steve Englehart - ‘John Harkness’     Jim Starlin   \n",
       "..                                                 ...             ...   \n",
       "414                                     Roger McKenzie      Paul Smith   \n",
       "415                                                NaN             NaN   \n",
       "416  Chris Claremont Arte:  Barry Windsor-Smith Cor...             NaN   \n",
       "417                                           Stan Lee      Jack Kirby   \n",
       "418                                    Chris Claremont  Michael Golden   \n",
       "\n",
       "                                               SUMMARY  \n",
       "0    Tana Nile pede ajuda ao deus do trovão para en...  \n",
       "1    Confronto final entre Thor e as forças de Gala...  \n",
       "2    Nosso herói invade a propriedade de Tony Stark...  \n",
       "3    O Ferroso é capturado por um andróide alieníge...  \n",
       "4    Fu Manchu envia o filho adotivo para matar Sha...  \n",
       "..                                                 ...  \n",
       "414                                                NaN  \n",
       "415                                                NaN  \n",
       "416  Apesar do título original americano da revista...  \n",
       "417                                                NaN  \n",
       "418                                                NaN  \n",
       "\n",
       "[419 rows x 13 columns]"
      ]
     },
     "execution_count": 6,
     "metadata": {},
     "output_type": "execute_result"
    }
   ],
   "source": [
    "htv"
   ]
  },
  {
   "cell_type": "code",
   "execution_count": 12,
   "metadata": {},
   "outputs": [
    {
     "data": {
      "text/plain": [
       "['Thor',\n",
       " 'Punho de Ferro',\n",
       " 'Homem de Ferro',\n",
       " 'Shang-Chi - Mestre do Kung Fu',\n",
       " 'Surfista Prateado',\n",
       " 'Capitão Marvel',\n",
       " 'Campeões',\n",
       " 'Shang-Chi - Mestre do Kung Fu\\nRoteiro:  Gerry Conway',\n",
       " 'Homem-Formiga',\n",
       " 'Motoqueiro Fantasma\\nRoteiro:  Bill Mantlo Desenho:  George Tuska Arte-Final:  Vince Colletta Editor original:  Marv Wolfman\\nPublicada originalmente em   Ghost Rider (1973) n°\\xa016/1976 - Marvel Comics\\r\\n             \\r\\nTítulo original: \"Blood in the waters\".',\n",
       " 'Miss Marvel',\n",
       " 'Capitão América',\n",
       " 'Motoqueiro Fantasma',\n",
       " 'Legião de Monstros',\n",
       " 'Punho de Ferro\\nRoteiro:  Tony Isabella Desenho:  Arvell Jones Arte-Final:  Vince Colletta Editor original:  Len Wein\\nPublicada originalmente em   Marvel Premiere (1972) n°\\xa021/1975 - Marvel Comics\\r\\n             \\r\\nTítulo original: \"Daughters of the death-goddess\".',\n",
       " 'Punho de Ferro\\nRoteiro:  Tony Isabella Desenho:  Arvell Jones Arte-Final:  Aubrey Bradford Editor original:  Len Wein\\nPublicada originalmente em   Marvel Premiere (1972) n°\\xa022/1975 - Marvel Comics\\r\\n             \\r\\nTítulo original: \"Death is a ninja\".',\n",
       " 'Heimdall',\n",
       " 'Nick Fury',\n",
       " nan,\n",
       " 'Vigia\\nRoteiro:  Stan Lee Desenho:  Howard Purcell Arte-Final:  Dan Adkins Editor original:  Stan Lee\\nPublicada originalmente em   Silver Surfer',\n",
       " 'Nick Fury\\nRoteiro:  Jim Steranko Desenho:  Jim Steranko Arte-Final:  Dan Adkins Cores:  Helcio de Carvalho Letrista:  Edison Gasparim Editor original:  Stan Lee\\nPublicada originalmente em   Nick Fury',\n",
       " 'Vigia\\nRoteiro:  Stan Lee Desenho:  Howard Purcell Arte-Final:  John Tartaglione Cores:  Rita de Carvalho Letrista:  Edison Gasparim Tradutor:  Helcio de Carvalho',\n",
       " 'Vigia\\nRoteiro:  Stan Lee Arte:  George Tuska Cores:  Cleusa M. C. Acosta Letrista:  José Luiz Torres Pinto Tradutor:  Helcio de Carvalho',\n",
       " 'Odin',\n",
       " 'Invasores',\n",
       " 'Shang-Chi - Mestre do Kung Fu\\nRoteiro:  Doug Moench Desenho:  Ron Wilson Arte-Final:  Mike Esposito - ‘Joe Gaudioso/Mickey Demeo’ Cores:  Rita de Carvalho Letrista:  Edison Gasparim Editor original:  Roy Thomas\\nPublicada originalmente em   Giant-Size Master of Kung Fu (1974) n°\\xa01/1974 - Marvel Comics\\r\\n             \\r\\nTítulo original: \"Reflections in a rippled pool\".8 Páginas',\n",
       " 'Vigia',\n",
       " 'Vigia\\nRoteiro:  Stan Lee Desenho:  Syd Shores Arte-Final:  Frank Brunner Tradutor:  Jotapê Martins',\n",
       " 'Balder',\n",
       " 'Tocha Humana I',\n",
       " 'Vigia\\nRoteiro:  Stan Lee Desenho:  Gene Colan Arte-Final:  Syd Shores Tradutor:  Jotapê Martins',\n",
       " 'Punho de Ferro\\nRoteiro:  Frank McLaughlin Arte:  Frank McLaughlin Letrista:  Edison Gasparim Editor original:  Roy Thomas\\nPublicada originalmente em   Giant-Size Master of Kung Fu (1974) n°\\xa01/1974 - Marvel Comics\\r\\n             \\r\\nTítulo original: \"Shaolin temple boxing\".2 Páginas',\n",
       " 'Vingadores',\n",
       " 'Fu Manchu',\n",
       " 'Cristal',\n",
       " 'Conan',\n",
       " 'Adam Warlock',\n",
       " 'Sonja\\nRoteiro:  Roy Thomas',\n",
       " 'Sonja\\nRoteiro:  Bruce Jones Arte:  Frank Thorne Cores:  Cleusa M. C. Acosta Letrista:  Edison Gasparim Tradutor:  Jotapê Martins Editor original:  Roy Thomas',\n",
       " 'Sonja\\nRoteiro:  Bruce Jones Arte:  Frank Thorne Cores:  Rita de Carvalho Letrista:  Edison Gasparim Tradutor:  Jotapê Martins Editor original:  Roy Thomas',\n",
       " 'Sonja\\nRoteiro:  Roy Thomas Arte:  Dick Giordano Cores:  Rita de Carvalho Letrista:  Jorge Yamamoto Tradutor:  Jotapê Martins Editor original:  Roy Thomas\\nPublicada originalmente em   Marvel Feature (1975) n°\\xa01/1975 - Marvel Comics\\r\\n             \\r\\nTítulo original \"The temple of abomination!\"Sonja vinga um sacerdote de Mitra',\n",
       " 'Quarteto Fantástico',\n",
       " 'Doutor Estranho',\n",
       " 'Clea',\n",
       " 'Doutor Estranho\\nRoteiro:  Chris Claremont Arte:  Marshall Rogers',\n",
       " 'Ishtar',\n",
       " 'Vingadores\\nRoteiro:  Steve Englehart - ‘John Harkness’ Desenho:  Bob Brown Arte-Final:  Mike Esposito - ‘Joe Gaudioso/Mickey Demeo’ Editor original:  Roy Thomas\\nPublicada originalmente em   Avengers',\n",
       " 'Doutor Estranho\\nRoteiro:  Marv Wolfman Arte:  Rudy Nebres\\nPublicada originalmente em   Doctor Strange (1974) n°\\xa020/1976 - Marvel Comics',\n",
       " 'Deathlok\\nArgumento:  Rich Buckler',\n",
       " 'Doutor Estranho\\nArgumento:  Marv Wolfman Arte:  Rudy Nebres\\nPublicada originalmente em   Doctor Strange (1974) n°\\xa022/1977 - Marvel Comics',\n",
       " 'Ka-Zar',\n",
       " 'Senhor das Estrelas',\n",
       " 'Starr',\n",
       " 'Manto',\n",
       " 'Quarteto Futuro\\nRoteiro:  Louise Jones Simonson Desenho:  June Brigman Arte-Final:  Bob Wiacek\\nPublicada originalmente em   Power Pack (1984) n°\\xa01/1984 - Marvel Comics',\n",
       " 'Micronautas',\n",
       " 'Quarteto Futuro\\nRoteiro:  Louise Jones Simonson Desenho:  June Brigman Arte-Final:  Bob Wiacek\\nPublicada originalmente em   Power Pack (1984) n°\\xa02/1984 - Marvel Comics',\n",
       " 'Quarteto Futuro',\n",
       " 'Fandral',\n",
       " 'Quarteto Futuro\\nRoteiro:  Louise Jones Simonson Desenho:  June Brigman Arte-Final:  Bob Wiacek\\nPublicada originalmente em   Power Pack (1984) n°\\xa04/1984 - Marvel Comics',\n",
       " 'Sonja\\nArgumento:  Roy Thomas Desenho:  John Buscema Arte-Final:  Tony Dezuñiga Cores:  Rita de Carvalho Letrista:  José Luiz Torres Pinto Editor original:  Roy Thomas',\n",
       " 'Luke Cage',\n",
       " 'Homem de Ferro\\nHistória:  David Michelinie Desenho:  Michael Golden Arte-Final:  Dan Green Cores:  Cleusa M. C. Acosta Letrista:  Lilian Toshimi Mitsunaga - ‘Miriam Tomi’\\nPublicada originalmente em   Marvel Fanfare (1982) n°\\xa04/1982 - Marvel Comics',\n",
       " 'Caleb Hammer',\n",
       " 'Doutor Estranho\\nArgumento:  Roger Stern Desenho:  Marshall Rogers Arte-Final:  Terry Austin\\nPublicada originalmente em   Doctor Strange (1974) n°\\xa051/1982 - Marvel Comics\\r\\n             \\r\\nEmpreendendo uma jornada pelo tempo para evitar que Dormammu renasça durante a Segunda Guerra Mundial',\n",
       " 'Homem de Ferro\\nArgumento:  David Michelinie Desenho:  Bob Layton Cores:  Rudinei Campello Acosta Letrista:  Edison Gasparim\\nPublicada originalmente em   Iron Man (1968) n°\\xa0130/1980 - Marvel Comics\\r\\n             \\r\\nEm Hong Kong',\n",
       " 'Thor\\nArgumento:  Len Wein Desenho:  Walter \"Walt\" Simonson Arte-Final:  Tony Dezuñiga\\nPublicada originalmente em   Thor (1966) n°\\xa0262/1977 - Marvel Comics',\n",
       " 'Mogli',\n",
       " 'Loki',\n",
       " 'Fera',\n",
       " 'Doutor Estranho\\nArgumento:  Roger Stern Desenho:  Michael Golden Arte-Final:  Terry Austin\\nPublicada originalmente em   Doctor Strange (1974) n°\\xa055/1982 - Marvel Comics',\n",
       " 'Homem de Ferro\\nArgumento:  Stan Lee Roteiro:  Larry Lieber Arte:  Don Heck\\nPublicada originalmente em   Tales of Suspense (1959) n°\\xa039/1963 - Marvel Comics\\r\\n             \\r\\nTítulo original americano: “Iron Man is born!”. Industrial inventor é capturado por guerrilheiros. Ferido no coração e obrigado a trabalhar na oficina dos bandidos',\n",
       " 'Wolverine']"
      ]
     },
     "execution_count": 12,
     "metadata": {},
     "output_type": "execute_result"
    }
   ],
   "source": [
    "allmaincharacters = htv[\"MAINCHAR\"].drop_duplicates().to_list()\n",
    "allmaincharacters"
   ]
  },
  {
   "cell_type": "code",
   "execution_count": 14,
   "metadata": {},
   "outputs": [
    {
     "ename": "ModuleNotFoundError",
     "evalue": "No module named 'pandasgui'",
     "output_type": "error",
     "traceback": [
      "\u001b[0;31m---------------------------------------------------------------------------\u001b[0m",
      "\u001b[0;31mModuleNotFoundError\u001b[0m                       Traceback (most recent call last)",
      "\u001b[0;32m<ipython-input-14-488ae1300181>\u001b[0m in \u001b[0;36m<module>\u001b[0;34m\u001b[0m\n\u001b[0;32m----> 1\u001b[0;31m \u001b[0;32mfrom\u001b[0m \u001b[0mpandasgui\u001b[0m \u001b[0;32mimport\u001b[0m \u001b[0mshow\u001b[0m\u001b[0;34m\u001b[0m\u001b[0;34m\u001b[0m\u001b[0m\n\u001b[0m",
      "\u001b[0;31mModuleNotFoundError\u001b[0m: No module named 'pandasgui'"
     ]
    }
   ],
   "source": [
    "from pandasgui import show"
   ]
  },
  {
   "cell_type": "code",
   "execution_count": null,
   "metadata": {},
   "outputs": [],
   "source": []
  },
  {
   "cell_type": "code",
   "execution_count": null,
   "metadata": {},
   "outputs": [],
   "source": []
  },
  {
   "cell_type": "code",
   "execution_count": null,
   "metadata": {},
   "outputs": [],
   "source": []
  }
 ],
 "metadata": {
  "kernelspec": {
   "display_name": "Python 3",
   "language": "python",
   "name": "python3"
  },
  "language_info": {
   "codemirror_mode": {
    "name": "ipython",
    "version": 3
   },
   "file_extension": ".py",
   "mimetype": "text/x-python",
   "name": "python",
   "nbconvert_exporter": "python",
   "pygments_lexer": "ipython3",
   "version": "3.7.2"
  }
 },
 "nbformat": 4,
 "nbformat_minor": 4
}
